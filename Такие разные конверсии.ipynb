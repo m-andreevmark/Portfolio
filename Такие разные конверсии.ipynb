{
 "cells": [
  {
   "cell_type": "markdown",
   "id": "29b7a7ae",
   "metadata": {},
   "source": [
    "## Базовая обработка таблицы"
   ]
  },
  {
   "cell_type": "code",
   "execution_count": 1,
   "id": "07484ee2",
   "metadata": {},
   "outputs": [],
   "source": [
    "import pandas as pd\n",
    "import numpy as np\n",
    "import statsmodels.stats.api as snss\n",
    "from scipy import stats\n",
    "import seaborn as sns"
   ]
  },
  {
   "cell_type": "code",
   "execution_count": 2,
   "id": "e86325b7",
   "metadata": {},
   "outputs": [
    {
     "name": "stdout",
     "output_type": "stream",
     "text": [
      "<class 'pandas.core.frame.DataFrame'>\n",
      "RangeIndex: 100274 entries, 0 to 100273\n",
      "Data columns (total 6 columns):\n",
      " #   Column        Non-Null Count   Dtype         \n",
      "---  ------        --------------   -----         \n",
      " 0   dt            100274 non-null  datetime64[ns]\n",
      " 1   tme           100274 non-null  datetime64[ns]\n",
      " 2   host          100274 non-null  object        \n",
      " 3   uri           100274 non-null  object        \n",
      " 4   uuid          100274 non-null  object        \n",
      " 5   http_referer  74413 non-null   object        \n",
      "dtypes: datetime64[ns](2), object(4)\n",
      "memory usage: 4.6+ MB\n",
      "None\n"
     ]
    }
   ],
   "source": [
    "raw_data = pd.read_excel('D:/acces_log_drom.xlsx')\n",
    "DF = raw_data.copy()\n",
    "print(DF.info())"
   ]
  },
  {
   "cell_type": "code",
   "execution_count": 3,
   "id": "fc266ee2",
   "metadata": {},
   "outputs": [
    {
     "data": {
      "text/html": [
       "<div>\n",
       "<style scoped>\n",
       "    .dataframe tbody tr th:only-of-type {\n",
       "        vertical-align: middle;\n",
       "    }\n",
       "\n",
       "    .dataframe tbody tr th {\n",
       "        vertical-align: top;\n",
       "    }\n",
       "\n",
       "    .dataframe thead th {\n",
       "        text-align: right;\n",
       "    }\n",
       "</style>\n",
       "<table border=\"1\" class=\"dataframe\">\n",
       "  <thead>\n",
       "    <tr style=\"text-align: right;\">\n",
       "      <th></th>\n",
       "      <th>dt</th>\n",
       "      <th>tme</th>\n",
       "      <th>host</th>\n",
       "      <th>uri</th>\n",
       "      <th>uuid</th>\n",
       "      <th>http_referer</th>\n",
       "    </tr>\n",
       "  </thead>\n",
       "  <tbody>\n",
       "    <tr>\n",
       "      <th>0</th>\n",
       "      <td>2023-03-18</td>\n",
       "      <td>2023-03-17 23:59:55</td>\n",
       "      <td>www.drom.ru</td>\n",
       "      <td>/reviews/</td>\n",
       "      <td>0F69F79A9F6D92F0596B101D2C6358BC4</td>\n",
       "      <td>https://www.drom.ru/</td>\n",
       "    </tr>\n",
       "    <tr>\n",
       "      <th>1</th>\n",
       "      <td>2023-03-18</td>\n",
       "      <td>2023-03-17 23:59:53</td>\n",
       "      <td>www.drom.ru</td>\n",
       "      <td>/reviews/toyota/</td>\n",
       "      <td>58DDB68605BB0002A50F5A0F8371E0DC1</td>\n",
       "      <td>NaN</td>\n",
       "    </tr>\n",
       "    <tr>\n",
       "      <th>2</th>\n",
       "      <td>2023-03-18</td>\n",
       "      <td>2023-03-17 23:59:36</td>\n",
       "      <td>www.drom.ru</td>\n",
       "      <td>/reviews/mazda/</td>\n",
       "      <td>07BCC60A11A489DFA2023C8C1A8AF5F25</td>\n",
       "      <td>NaN</td>\n",
       "    </tr>\n",
       "    <tr>\n",
       "      <th>3</th>\n",
       "      <td>2023-03-18</td>\n",
       "      <td>2023-03-17 23:59:34</td>\n",
       "      <td>www.drom.ru</td>\n",
       "      <td>/reviews/byd/</td>\n",
       "      <td>05515201AA597EC7EEABF7B9363914938</td>\n",
       "      <td>NaN</td>\n",
       "    </tr>\n",
       "    <tr>\n",
       "      <th>4</th>\n",
       "      <td>2023-03-18</td>\n",
       "      <td>2023-03-17 23:59:16</td>\n",
       "      <td>www.drom.ru</td>\n",
       "      <td>/reviews/mazda/</td>\n",
       "      <td>0901F56AD921645244F1E305473E98000</td>\n",
       "      <td>NaN</td>\n",
       "    </tr>\n",
       "    <tr>\n",
       "      <th>...</th>\n",
       "      <td>...</td>\n",
       "      <td>...</td>\n",
       "      <td>...</td>\n",
       "      <td>...</td>\n",
       "      <td>...</td>\n",
       "      <td>...</td>\n",
       "    </tr>\n",
       "    <tr>\n",
       "      <th>100269</th>\n",
       "      <td>2023-03-11</td>\n",
       "      <td>2023-03-11 00:00:26</td>\n",
       "      <td>www.drom.ru</td>\n",
       "      <td>/reviews/</td>\n",
       "      <td>DE4666CDBA2501A44395BCA14DFB60C63</td>\n",
       "      <td>https://www.drom.ru/reviews/updates/</td>\n",
       "    </tr>\n",
       "    <tr>\n",
       "      <th>100270</th>\n",
       "      <td>2023-03-11</td>\n",
       "      <td>2023-03-11 00:00:25</td>\n",
       "      <td>www.drom.ru</td>\n",
       "      <td>/reviews/</td>\n",
       "      <td>CF22B8FD2BD4B8BB5875DC11B8C1E1BF7</td>\n",
       "      <td>NaN</td>\n",
       "    </tr>\n",
       "    <tr>\n",
       "      <th>100271</th>\n",
       "      <td>2023-03-11</td>\n",
       "      <td>2023-03-11 00:00:08</td>\n",
       "      <td>www.drom.ru</td>\n",
       "      <td>/reviews/kia/</td>\n",
       "      <td>FCF6A061C75A9CFA3131AB802E15F8A48</td>\n",
       "      <td>NaN</td>\n",
       "    </tr>\n",
       "    <tr>\n",
       "      <th>100272</th>\n",
       "      <td>2023-03-11</td>\n",
       "      <td>2023-03-11 00:00:08</td>\n",
       "      <td>www.drom.ru</td>\n",
       "      <td>/reviews/</td>\n",
       "      <td>8A97E38D55EDEBE2C60390C36956837E7</td>\n",
       "      <td>NaN</td>\n",
       "    </tr>\n",
       "    <tr>\n",
       "      <th>100273</th>\n",
       "      <td>2023-03-11</td>\n",
       "      <td>2023-03-11 00:00:01</td>\n",
       "      <td>www.drom.ru</td>\n",
       "      <td>/reviews/</td>\n",
       "      <td>0F69F79A9F6D92F0596B101D2C6358BC4</td>\n",
       "      <td>https://www.drom.ru/</td>\n",
       "    </tr>\n",
       "  </tbody>\n",
       "</table>\n",
       "<p>100274 rows × 6 columns</p>\n",
       "</div>"
      ],
      "text/plain": [
       "               dt                 tme         host               uri  \\\n",
       "0      2023-03-18 2023-03-17 23:59:55  www.drom.ru         /reviews/   \n",
       "1      2023-03-18 2023-03-17 23:59:53  www.drom.ru  /reviews/toyota/   \n",
       "2      2023-03-18 2023-03-17 23:59:36  www.drom.ru   /reviews/mazda/   \n",
       "3      2023-03-18 2023-03-17 23:59:34  www.drom.ru     /reviews/byd/   \n",
       "4      2023-03-18 2023-03-17 23:59:16  www.drom.ru   /reviews/mazda/   \n",
       "...           ...                 ...          ...               ...   \n",
       "100269 2023-03-11 2023-03-11 00:00:26  www.drom.ru         /reviews/   \n",
       "100270 2023-03-11 2023-03-11 00:00:25  www.drom.ru         /reviews/   \n",
       "100271 2023-03-11 2023-03-11 00:00:08  www.drom.ru     /reviews/kia/   \n",
       "100272 2023-03-11 2023-03-11 00:00:08  www.drom.ru         /reviews/   \n",
       "100273 2023-03-11 2023-03-11 00:00:01  www.drom.ru         /reviews/   \n",
       "\n",
       "                                     uuid  \\\n",
       "0       0F69F79A9F6D92F0596B101D2C6358BC4   \n",
       "1       58DDB68605BB0002A50F5A0F8371E0DC1   \n",
       "2       07BCC60A11A489DFA2023C8C1A8AF5F25   \n",
       "3       05515201AA597EC7EEABF7B9363914938   \n",
       "4       0901F56AD921645244F1E305473E98000   \n",
       "...                                   ...   \n",
       "100269  DE4666CDBA2501A44395BCA14DFB60C63   \n",
       "100270  CF22B8FD2BD4B8BB5875DC11B8C1E1BF7   \n",
       "100271  FCF6A061C75A9CFA3131AB802E15F8A48   \n",
       "100272  8A97E38D55EDEBE2C60390C36956837E7   \n",
       "100273  0F69F79A9F6D92F0596B101D2C6358BC4   \n",
       "\n",
       "                                http_referer  \n",
       "0                       https://www.drom.ru/  \n",
       "1                                        NaN  \n",
       "2                                        NaN  \n",
       "3                                        NaN  \n",
       "4                                        NaN  \n",
       "...                                      ...  \n",
       "100269  https://www.drom.ru/reviews/updates/  \n",
       "100270                                   NaN  \n",
       "100271                                   NaN  \n",
       "100272                                   NaN  \n",
       "100273                  https://www.drom.ru/  \n",
       "\n",
       "[100274 rows x 6 columns]"
      ]
     },
     "execution_count": 3,
     "metadata": {},
     "output_type": "execute_result"
    }
   ],
   "source": [
    "DF"
   ]
  },
  {
   "cell_type": "code",
   "execution_count": 4,
   "id": "861a663d",
   "metadata": {},
   "outputs": [],
   "source": [
    "DF_test = DF.drop(columns=['dt', 'host'], axis=1) # Создаём новый df без столбцов с датой выгрызки на сервер и именем хоста"
   ]
  },
  {
   "cell_type": "code",
   "execution_count": 5,
   "id": "0991ca44",
   "metadata": {},
   "outputs": [],
   "source": [
    "#создаем столбец с флагом группы пользователя: 0 - контрольная группа, 1 - тестовая группа\n",
    "DF_test['group'] = DF_test['uuid'].apply(lambda x: int(x,base=16)) % 2 "
   ]
  },
  {
   "cell_type": "code",
   "execution_count": 6,
   "id": "00b0f3dc",
   "metadata": {},
   "outputs": [],
   "source": [
    "DF_test[\"date\"] = DF_test[\"tme\"].dt.to_period(\"D\") # добавление столбца только с датой без времени, для более удобной группировки\n",
    "DF_test['uuid'] = DF_test['uuid'].apply(int, base=16) # перевод столбца uuid в десятичную систему\n",
    "DF_test = DF_test.drop_duplicates() # Удаление дублей на основе всей таблицы\n",
    "DF_test = DF_test.drop(columns=['tme'], axis=1) #удаление столбца с датой в старом формате"
   ]
  },
  {
   "cell_type": "code",
   "execution_count": 7,
   "id": "6b20b97f",
   "metadata": {},
   "outputs": [],
   "source": [
    "# Создаём отдельные dataframe для подсчёта будущих метрик\n",
    "metric_1 = DF_test.copy()\n",
    "metric_2 = DF_test.copy()\n",
    "metric_3 = DF_test.copy()"
   ]
  },
  {
   "cell_type": "code",
   "execution_count": 11,
   "id": "b2172751",
   "metadata": {},
   "outputs": [
    {
     "data": {
      "text/html": [
       "<div>\n",
       "<style scoped>\n",
       "    .dataframe tbody tr th:only-of-type {\n",
       "        vertical-align: middle;\n",
       "    }\n",
       "\n",
       "    .dataframe tbody tr th {\n",
       "        vertical-align: top;\n",
       "    }\n",
       "\n",
       "    .dataframe thead th {\n",
       "        text-align: right;\n",
       "    }\n",
       "</style>\n",
       "<table border=\"1\" class=\"dataframe\">\n",
       "  <thead>\n",
       "    <tr style=\"text-align: right;\">\n",
       "      <th></th>\n",
       "      <th>uri</th>\n",
       "      <th>uuid</th>\n",
       "      <th>http_referer</th>\n",
       "      <th>group</th>\n",
       "      <th>date</th>\n",
       "    </tr>\n",
       "  </thead>\n",
       "  <tbody>\n",
       "    <tr>\n",
       "      <th>0</th>\n",
       "      <td>/reviews/</td>\n",
       "      <td>327818129801113720463291375532071291844</td>\n",
       "      <td>https://www.drom.ru/</td>\n",
       "      <td>0</td>\n",
       "      <td>2023-03-17</td>\n",
       "    </tr>\n",
       "    <tr>\n",
       "      <th>1</th>\n",
       "      <td>/reviews/toyota/</td>\n",
       "      <td>1889972212027262871408650083813591748033</td>\n",
       "      <td>NaN</td>\n",
       "      <td>1</td>\n",
       "      <td>2023-03-17</td>\n",
       "    </tr>\n",
       "    <tr>\n",
       "      <th>2</th>\n",
       "      <td>/reviews/mazda/</td>\n",
       "      <td>164556231915876271500214510578935226149</td>\n",
       "      <td>NaN</td>\n",
       "      <td>1</td>\n",
       "      <td>2023-03-17</td>\n",
       "    </tr>\n",
       "    <tr>\n",
       "      <th>3</th>\n",
       "      <td>/reviews/byd/</td>\n",
       "      <td>113094069024035314040327914757957962040</td>\n",
       "      <td>NaN</td>\n",
       "      <td>0</td>\n",
       "      <td>2023-03-17</td>\n",
       "    </tr>\n",
       "    <tr>\n",
       "      <th>4</th>\n",
       "      <td>/reviews/mazda/</td>\n",
       "      <td>191571550634552228681038579065592315904</td>\n",
       "      <td>NaN</td>\n",
       "      <td>0</td>\n",
       "      <td>2023-03-17</td>\n",
       "    </tr>\n",
       "    <tr>\n",
       "      <th>...</th>\n",
       "      <td>...</td>\n",
       "      <td>...</td>\n",
       "      <td>...</td>\n",
       "      <td>...</td>\n",
       "      <td>...</td>\n",
       "    </tr>\n",
       "    <tr>\n",
       "      <th>100269</th>\n",
       "      <td>/reviews/</td>\n",
       "      <td>4727266575192169591165011078636209835107</td>\n",
       "      <td>https://www.drom.ru/reviews/updates/</td>\n",
       "      <td>1</td>\n",
       "      <td>2023-03-11</td>\n",
       "    </tr>\n",
       "    <tr>\n",
       "      <th>100270</th>\n",
       "      <td>/reviews/</td>\n",
       "      <td>4405287763877199646625886204303595412471</td>\n",
       "      <td>NaN</td>\n",
       "      <td>1</td>\n",
       "      <td>2023-03-11</td>\n",
       "    </tr>\n",
       "    <tr>\n",
       "      <th>100271</th>\n",
       "      <td>/reviews/kia/</td>\n",
       "      <td>5379936206357820436830425500229356718664</td>\n",
       "      <td>NaN</td>\n",
       "      <td>0</td>\n",
       "      <td>2023-03-11</td>\n",
       "    </tr>\n",
       "    <tr>\n",
       "      <th>100272</th>\n",
       "      <td>/reviews/</td>\n",
       "      <td>2947553848779231169064165698792552151015</td>\n",
       "      <td>NaN</td>\n",
       "      <td>1</td>\n",
       "      <td>2023-03-11</td>\n",
       "    </tr>\n",
       "    <tr>\n",
       "      <th>100273</th>\n",
       "      <td>/reviews/</td>\n",
       "      <td>327818129801113720463291375532071291844</td>\n",
       "      <td>https://www.drom.ru/</td>\n",
       "      <td>0</td>\n",
       "      <td>2023-03-11</td>\n",
       "    </tr>\n",
       "  </tbody>\n",
       "</table>\n",
       "<p>99867 rows × 5 columns</p>\n",
       "</div>"
      ],
      "text/plain": [
       "                     uri                                      uuid  \\\n",
       "0              /reviews/   327818129801113720463291375532071291844   \n",
       "1       /reviews/toyota/  1889972212027262871408650083813591748033   \n",
       "2        /reviews/mazda/   164556231915876271500214510578935226149   \n",
       "3          /reviews/byd/   113094069024035314040327914757957962040   \n",
       "4        /reviews/mazda/   191571550634552228681038579065592315904   \n",
       "...                  ...                                       ...   \n",
       "100269         /reviews/  4727266575192169591165011078636209835107   \n",
       "100270         /reviews/  4405287763877199646625886204303595412471   \n",
       "100271     /reviews/kia/  5379936206357820436830425500229356718664   \n",
       "100272         /reviews/  2947553848779231169064165698792552151015   \n",
       "100273         /reviews/   327818129801113720463291375532071291844   \n",
       "\n",
       "                                http_referer group        date  \n",
       "0                       https://www.drom.ru/     0  2023-03-17  \n",
       "1                                        NaN     1  2023-03-17  \n",
       "2                                        NaN     1  2023-03-17  \n",
       "3                                        NaN     0  2023-03-17  \n",
       "4                                        NaN     0  2023-03-17  \n",
       "...                                      ...   ...         ...  \n",
       "100269  https://www.drom.ru/reviews/updates/     1  2023-03-11  \n",
       "100270                                   NaN     1  2023-03-11  \n",
       "100271                                   NaN     0  2023-03-11  \n",
       "100272                                   NaN     1  2023-03-11  \n",
       "100273                  https://www.drom.ru/     0  2023-03-11  \n",
       "\n",
       "[99867 rows x 5 columns]"
      ]
     },
     "execution_count": 11,
     "metadata": {},
     "output_type": "execute_result"
    }
   ],
   "source": [
    "DF_test # Смотрим на табличку, чтоб не забывать, как она выглядит"
   ]
  },
  {
   "cell_type": "markdown",
   "id": "59e8e3c9",
   "metadata": {},
   "source": [
    "## Общая посещаемость раздела с отзывами"
   ]
  },
  {
   "cell_type": "code",
   "execution_count": 254,
   "id": "7e3958c2",
   "metadata": {},
   "outputs": [],
   "source": [
    "def uri(link):                         # Функция для обработки ссылки, на которую перешёл пользователь\n",
    "    if link == '/reviews/':              \n",
    "        return 1\n",
    "    else:\n",
    "        return 0"
   ]
  },
  {
   "cell_type": "code",
   "execution_count": 255,
   "id": "5e92e8b6",
   "metadata": {},
   "outputs": [],
   "source": [
    "metric_1['converted'] = metric_1['uri'].apply(uri) # Создаем новый столбец, где 1 - посетил раздел с отзывами, 0 - не посетил"
   ]
  },
  {
   "cell_type": "code",
   "execution_count": 256,
   "id": "18ada40b",
   "metadata": {},
   "outputs": [
    {
     "name": "stdout",
     "output_type": "stream",
     "text": [
      "27814 49710\n"
     ]
    }
   ],
   "source": [
    "m1_mask1 = (metric_1['group'] == 0)                    # Количество перешедших и их общее количество для контрольной группы\n",
    "m1_conversions_control = metric_1['converted'][m1_mask1].sum()\n",
    "m1_total_user_control = metric_1['converted'][m1_mask1].count()\n",
    "print(m1_conversions_control, m1_total_user_control)"
   ]
  },
  {
   "cell_type": "code",
   "execution_count": 257,
   "id": "e0e5cf38",
   "metadata": {},
   "outputs": [
    {
     "name": "stdout",
     "output_type": "stream",
     "text": [
      "28473 50157\n"
     ]
    }
   ],
   "source": [
    "m1_mask2 = (metric_1['group'] == 1)                       # Количество перешедших и их общее количество для тестовой группы\n",
    "m1_conversions_test = metric_1['converted'][m1_mask2].sum()\n",
    "m1_total_user_test = metric_1['converted'][m1_mask2].count()\n",
    "print(m1_conversions_test, m1_total_user_test)"
   ]
  },
  {
   "cell_type": "code",
   "execution_count": 258,
   "id": "d905f3c5",
   "metadata": {},
   "outputs": [
    {
     "name": "stdout",
     "output_type": "stream",
     "text": [
      "Соотношение контрольной и тестовой группы: 49.78 % 50.22 %\n"
     ]
    }
   ],
   "source": [
    "print('Соотношение контрольной и тестовой группы:', round(m1_total_user_control / metric_1['converted'].count() * 100, 2), \"%\",\n",
    "      round(m1_total_user_test / metric_1['converted'].count() * 100, 2), \"%\")"
   ]
  },
  {
   "cell_type": "code",
   "execution_count": 259,
   "id": "dd19da0c",
   "metadata": {},
   "outputs": [],
   "source": [
    "count = np.array([m1_conversions_control, m1_conversions_test])                          # Z_статистика\n",
    "nobs = np.array([m1_total_user_control, m1_total_user_test])\n",
    "z_score, p_value = sns.proportions_ztest(count, nobs, value=0, alternative='two-sided')"
   ]
  },
  {
   "cell_type": "code",
   "execution_count": 260,
   "id": "ccb6a083",
   "metadata": {},
   "outputs": [
    {
     "name": "stdout",
     "output_type": "stream",
     "text": [
      "p-value: 0.009394972687726509\n"
     ]
    }
   ],
   "source": [
    "print('p-value:', p_value)\n",
    "p1 = p_value"
   ]
  },
  {
   "cell_type": "code",
   "execution_count": 261,
   "id": "de45b984",
   "metadata": {},
   "outputs": [
    {
     "name": "stdout",
     "output_type": "stream",
     "text": [
      "0.009394972687726509 Первая метрика\n",
      "False\n"
     ]
    }
   ],
   "source": [
    "print(p1, 'Первая метрика')\n",
    "print(p1 > 0.05)"
   ]
  },
  {
   "cell_type": "code",
   "execution_count": null,
   "id": "2c036edd",
   "metadata": {},
   "outputs": [],
   "source": []
  },
  {
   "cell_type": "code",
   "execution_count": null,
   "id": "7354c265",
   "metadata": {},
   "outputs": [],
   "source": []
  },
  {
   "cell_type": "markdown",
   "id": "66493879",
   "metadata": {},
   "source": [
    "## Ретеншн 2-го дня"
   ]
  },
  {
   "cell_type": "code",
   "execution_count": 263,
   "id": "3aa0154d",
   "metadata": {
    "scrolled": true
   },
   "outputs": [
    {
     "name": "stdout",
     "output_type": "stream",
     "text": [
      "<class 'pandas.core.frame.DataFrame'>\n",
      "Int64Index: 55073 entries, 0 to 100272\n",
      "Data columns (total 6 columns):\n",
      " #   Column        Non-Null Count  Dtype         \n",
      "---  ------        --------------  -----         \n",
      " 0   tme           55073 non-null  datetime64[ns]\n",
      " 1   uri           55073 non-null  object        \n",
      " 2   uuid          55073 non-null  object        \n",
      " 3   http_referer  35003 non-null  object        \n",
      " 4   group         55073 non-null  object        \n",
      " 5   year_day      55073 non-null  period[D]     \n",
      "dtypes: datetime64[ns](1), object(4), period[D](1)\n",
      "memory usage: 2.9+ MB\n",
      "None\n"
     ]
    }
   ],
   "source": [
    "metric_2 = metric_2.drop_duplicates(subset=['year_day', 'uuid']) # Фильтрация уникальных значений uuid для каждого дня"
   ]
  },
  {
   "cell_type": "code",
   "execution_count": 264,
   "id": "f5d100c5",
   "metadata": {},
   "outputs": [],
   "source": [
    "metric_2_first_date = metric_2['uuid'][metric_2['year_day'] == '2023-03-11']  # уникальные пользователи 2023-03-11"
   ]
  },
  {
   "cell_type": "code",
   "execution_count": 265,
   "id": "4177eea6",
   "metadata": {},
   "outputs": [],
   "source": [
    "metric_2_second_date = metric_2['uuid'][metric_2['year_day'] == '2023-03-13'] # уникальные пользователи 2023-03-13"
   ]
  },
  {
   "cell_type": "code",
   "execution_count": 266,
   "id": "8bbf0bac",
   "metadata": {},
   "outputs": [],
   "source": [
    "def converted(uuid):                      # Функция для нахождения одинаковых uuid 2023-03-11 и 2023-03-13\n",
    "    if uuid in list(metric_2_second_date):\n",
    "        return 1\n",
    "    else:\n",
    "        return 0"
   ]
  },
  {
   "cell_type": "code",
   "execution_count": 267,
   "id": "909743f5",
   "metadata": {},
   "outputs": [],
   "source": [
    "metric_2['converted'] = metric_2_first_date.apply(converted) # новый столбец, где 1 - юзер вернулся через 2 дня, 0 - не вернулся"
   ]
  },
  {
   "cell_type": "code",
   "execution_count": 269,
   "id": "18ff835a",
   "metadata": {},
   "outputs": [
    {
     "name": "stdout",
     "output_type": "stream",
     "text": [
      "387.0 4595\n"
     ]
    }
   ],
   "source": [
    "m2_mask1 = (metric_2['group'] == 0)                     # Количество перешедших и их общее количество для контрольной группы\n",
    "m2_conversions_control = metric_2['converted'][m2_mask1].sum()\n",
    "m2_total_user_control = metric_2['converted'][m2_mask1].count()\n",
    "print(m2_conversions_control, m2_total_user_control)"
   ]
  },
  {
   "cell_type": "code",
   "execution_count": 270,
   "id": "ca3bf5b1",
   "metadata": {},
   "outputs": [
    {
     "name": "stdout",
     "output_type": "stream",
     "text": [
      "374.0 4495\n"
     ]
    }
   ],
   "source": [
    "m2_mask2 = (metric_2['group'] == 1)                      # Количество перешедших и их общее количество для тестовой группы\n",
    "m2_conversions_test = metric_2['converted'][m2_mask2].sum()\n",
    "m2_total_user_test = metric_2['converted'][m2_mask2].count()\n",
    "print(m2_conversions_test, m2_total_user_test)"
   ]
  },
  {
   "cell_type": "code",
   "execution_count": 271,
   "id": "ebe060bb",
   "metadata": {},
   "outputs": [
    {
     "name": "stdout",
     "output_type": "stream",
     "text": [
      "Соотношение контрольной и тестовой группы: 50.55 % 49.45 %\n"
     ]
    }
   ],
   "source": [
    "print('Соотношение контрольной и тестовой группы:', round(m2_total_user_control / metric_2['converted'].count() * 100, 2), \"%\",\n",
    "      round(m2_total_user_test / metric_2['converted'].count() * 100, 2), \"%\")"
   ]
  },
  {
   "cell_type": "code",
   "execution_count": 272,
   "id": "8cb74edf",
   "metadata": {},
   "outputs": [],
   "source": [
    "count = np.array([m2_conversions_control, m2_conversions_test])                         # Z_статистика\n",
    "nobs = np.array([m2_total_user_control, m2_total_user_test])\n",
    "z_score, p_value = sns.proportions_ztest(count, nobs, value=0, alternative='two-sided')"
   ]
  },
  {
   "cell_type": "code",
   "execution_count": 273,
   "id": "44e6165a",
   "metadata": {},
   "outputs": [
    {
     "name": "stdout",
     "output_type": "stream",
     "text": [
      "p-value: 0.8608609808530691\n"
     ]
    }
   ],
   "source": [
    "print('p-value:', p_value)\n",
    "p2 = p_value"
   ]
  },
  {
   "cell_type": "code",
   "execution_count": 274,
   "id": "bf9facc5",
   "metadata": {},
   "outputs": [
    {
     "name": "stdout",
     "output_type": "stream",
     "text": [
      "0.8608609808530691 Вторая метрика\n",
      "True\n"
     ]
    }
   ],
   "source": [
    "print(p2, 'Вторая метрика')\n",
    "print(p2 > 0.05)"
   ]
  },
  {
   "cell_type": "code",
   "execution_count": null,
   "id": "7d71245e",
   "metadata": {},
   "outputs": [],
   "source": []
  },
  {
   "cell_type": "markdown",
   "id": "86ad0193",
   "metadata": {},
   "source": [
    "## Конверсия с главной страницы отзывов"
   ]
  },
  {
   "cell_type": "code",
   "execution_count": 8,
   "id": "477f9529",
   "metadata": {},
   "outputs": [],
   "source": [
    "HTTP_REFERER = 'https://www.drom.ru/reviews/'  # создаём переменную со значением реферальной ссылки\n",
    "                                                                # и словарь со всеми марками автомобилей\n",
    "BRAND = ['ac', 'aito', 'acura', 'alfa_romeo', 'alpina', 'aro', 'asia', 'aston_martin', 'audi', 'baic', 'baw', 'bmw',\n",
    "         'byd', 'bentley', 'brilliance', 'bugatti', 'buick', 'cadillac', 'changan', 'chery', 'chevrolet', 'chrysler',\n",
    "         'citroen', 'cupra', 'dw_hower', 'dacia', 'dadi', 'daewoo', 'daihatsu', 'daimler', 'datsun', 'delorean',\n",
    "         'derways', 'dodge', 'dongfeng', 'cheryexeed', 'eagle', 'evolute', 'faw', 'ferrari', 'fiat', 'fisker', 'ford',\n",
    "         'foton', 'freightliner', 'gac', 'gmc', 'geely', 'genesis', 'geo', 'great_wall', 'hafei', 'haima', 'haval',\n",
    "         'hawtai', 'hino', 'honda', 'hongqi', 'howo', 'hummer', 'hyundai', 'infiniti', 'iran_khodro', 'isuzu', 'jac',\n",
    "         'jaguar', 'jeep', 'jetour', 'kaiyi', 'kia', 'koenigsegg', 'lamborghini', 'lancia', 'land_rover', 'lexus',\n",
    "         'li', 'lifan', 'lincoln', 'lotus', 'luxgen', 'mini', 'marussia', 'maserati', 'maxus', 'maybach', 'mazda',\n",
    "         'mclaren', 'mercedes-benz', 'mercury', 'mitsubishi', 'mitsuoka', 'nissan', 'omoda', 'oldsmobile', 'opel',\n",
    "         'pagani', 'peugeot', 'plymouth', 'pontiac', 'porsche', 'proton', 'ram', 'ravon', 'renault', 'renault_samsung',\n",
    "         'rivian', 'rolls-royce', 'rover', 'seat', 'saab', 'saturn', 'scion', 'skoda', 'skywell', 'smart', 'ssang_yong',\n",
    "         'subaru', 'suzuki', 'tvr', 'tank', 'tesla', 'tianye', 'toyota', 'volkswagen', 'volvo', 'vortex', 'weltmeister',\n",
    "         'wiesmann', 'xin_kai', 'zx', 'zotye', 'bogdan', 'gaz', 'zaz', 'zil', 'izh', 'lada', 'luaz', 'moskvitch',\n",
    "         'tagaz', 'uaz']"
   ]
  },
  {
   "cell_type": "code",
   "execution_count": 9,
   "id": "458c2a01",
   "metadata": {},
   "outputs": [],
   "source": [
    "metric_3 = metric_3.loc[DF['http_referer'] == HTTP_REFERER] # Фильтрация таблицы по http_referer"
   ]
  },
  {
   "cell_type": "code",
   "execution_count": 10,
   "id": "8f1c3ced",
   "metadata": {},
   "outputs": [],
   "source": [
    "def uri(link):                 # Функция для обработки ссылки\n",
    "    link = str(link)\n",
    "    list1 = link.split(\"/\")\n",
    "    list1 = list(filter(None, list1))\n",
    "    if 'reviews' in list1 and list1[-1] in BRAND and list1[-2] not in BRAND:\n",
    "        return 1\n",
    "    else:\n",
    "        return 0"
   ]
  },
  {
   "cell_type": "code",
   "execution_count": 11,
   "id": "be04f761",
   "metadata": {},
   "outputs": [],
   "source": [
    "metric_3['converted'] = metric_3['uri'].apply(uri) # Создаем новый столбец, где 1 - есть конверсия, 0 - нет"
   ]
  },
  {
   "cell_type": "code",
   "execution_count": 12,
   "id": "4895bb7a",
   "metadata": {},
   "outputs": [
    {
     "name": "stdout",
     "output_type": "stream",
     "text": [
      "9512 11706\n"
     ]
    }
   ],
   "source": [
    "m3_mask1 = (metric_3['group'] == 0)              # Количество перешедших и их общее количество для контрольной группы\n",
    "m3_conversion_0 = metric_3['converted'][m3_mask1].to_numpy() # Создаём нампаевский массив для с конверсией для контрольной группы\n",
    "m3_conversions_control = metric_3['converted'][m3_mask1].sum()\n",
    "m3_total_user_control = metric_3['converted'][m3_mask1].count()\n",
    "print(m3_conversions_control, m3_total_user_control)"
   ]
  },
  {
   "cell_type": "code",
   "execution_count": 13,
   "id": "125eadc1",
   "metadata": {},
   "outputs": [
    {
     "name": "stdout",
     "output_type": "stream",
     "text": [
      "9279 11607\n"
     ]
    }
   ],
   "source": [
    "m3_mask2 = (metric_3['group'] == 1)                  # Количество перешедших и их общее количество для тестовой группы\n",
    "m3_conversion_1 = metric_3['converted'][m3_mask2].to_numpy() # Создаём нампаевский массив для с конверсией для тестовой группы\n",
    "m3_conversions_test = metric_3['converted'][m3_mask2].sum()\n",
    "m3_total_user_test = metric_3['converted'][m3_mask2].count()\n",
    "print(m3_conversions_test, m3_total_user_test)"
   ]
  },
  {
   "cell_type": "code",
   "execution_count": 14,
   "id": "2ce36d34",
   "metadata": {},
   "outputs": [
    {
     "name": "stdout",
     "output_type": "stream",
     "text": [
      "Соотношение контрольной и тестовой группы: 50.21 % 49.79 %\n"
     ]
    }
   ],
   "source": [
    "print('Соотношение контрольной и тестовой группы:', round(m3_total_user_control / metric_3['converted'].count() * 100, 2), \"%\",\n",
    "      round(m3_total_user_test / metric_3['converted'].count() * 100, 2), \"%\")"
   ]
  },
  {
   "cell_type": "code",
   "execution_count": 15,
   "id": "51a7cd7c",
   "metadata": {},
   "outputs": [],
   "source": [
    "def bootstrap(m3_conversion_0, m3_conversion_1, n_bootstrap=2000): #Создаём функцию bootstrap\n",
    "\n",
    "    poisson_bootstraps1 = stats.poisson(1).rvs(\n",
    "        (2000, len(m3_conversion_0))).astype(np.int64)\n",
    "\n",
    "    poisson_bootstraps2 = stats.poisson(1).rvs(\n",
    "            (2000, len(m3_conversion_1))).astype(np.int64)\n",
    "    \n",
    "    conversion_control = (poisson_bootstraps1*m3_conversion_0).sum(axis=1) / len(m3_conversion_0)\n",
    "    \n",
    "    conversion_test = (poisson_bootstraps2*m3_conversion_1).sum(axis=1) / len(m3_conversion_1)\n",
    "\n",
    "    return conversion_control, conversion_test"
   ]
  },
  {
   "cell_type": "code",
   "execution_count": 16,
   "id": "383cc015",
   "metadata": {},
   "outputs": [],
   "source": [
    "cnvrs0, cnvrs1 = bootstrap(m3_conversion_0, m3_conversion_1)"
   ]
  },
  {
   "cell_type": "code",
   "execution_count": null,
   "id": "7eb1ee83",
   "metadata": {},
   "outputs": [],
   "source": [
    "cnvrs0.to_exel()"
   ]
  },
  {
   "cell_type": "code",
   "execution_count": 97,
   "id": "a67fe32d",
   "metadata": {},
   "outputs": [
    {
     "ename": "NotImplementedError",
     "evalue": "more than two samples are not implemented yet",
     "output_type": "error",
     "traceback": [
      "\u001b[1;31m---------------------------------------------------------------------------\u001b[0m",
      "\u001b[1;31mNotImplementedError\u001b[0m                       Traceback (most recent call last)",
      "\u001b[1;32m~\\AppData\\Local\\Temp\\ipykernel_15696\\2401325585.py\u001b[0m in \u001b[0;36m<module>\u001b[1;34m\u001b[0m\n\u001b[1;32m----> 1\u001b[1;33m \u001b[0mz_score\u001b[0m\u001b[1;33m,\u001b[0m \u001b[0mp_value\u001b[0m \u001b[1;33m=\u001b[0m \u001b[0msnss\u001b[0m\u001b[1;33m.\u001b[0m\u001b[0mproportions_ztest\u001b[0m\u001b[1;33m(\u001b[0m\u001b[0mcnvrs0\u001b[0m\u001b[1;33m,\u001b[0m \u001b[0mcnvrs1\u001b[0m\u001b[1;33m,\u001b[0m \u001b[0mvalue\u001b[0m\u001b[1;33m=\u001b[0m\u001b[1;36m0\u001b[0m\u001b[1;33m,\u001b[0m \u001b[0malternative\u001b[0m\u001b[1;33m=\u001b[0m\u001b[1;34m'two-sided'\u001b[0m\u001b[1;33m)\u001b[0m\u001b[1;33m\u001b[0m\u001b[1;33m\u001b[0m\u001b[0m\n\u001b[0m",
      "\u001b[1;32mD:\\Anaconda\\lib\\site-packages\\statsmodels\\stats\\proportion.py\u001b[0m in \u001b[0;36mproportions_ztest\u001b[1;34m(count, nobs, value, alternative, prop_var)\u001b[0m\n\u001b[0;32m    849\u001b[0m     \u001b[1;32melse\u001b[0m\u001b[1;33m:\u001b[0m\u001b[1;33m\u001b[0m\u001b[1;33m\u001b[0m\u001b[0m\n\u001b[0;32m    850\u001b[0m         \u001b[0mmsg\u001b[0m \u001b[1;33m=\u001b[0m \u001b[1;34m'more than two samples are not implemented yet'\u001b[0m\u001b[1;33m\u001b[0m\u001b[1;33m\u001b[0m\u001b[0m\n\u001b[1;32m--> 851\u001b[1;33m         \u001b[1;32mraise\u001b[0m \u001b[0mNotImplementedError\u001b[0m\u001b[1;33m(\u001b[0m\u001b[0mmsg\u001b[0m\u001b[1;33m)\u001b[0m\u001b[1;33m\u001b[0m\u001b[1;33m\u001b[0m\u001b[0m\n\u001b[0m\u001b[0;32m    852\u001b[0m \u001b[1;33m\u001b[0m\u001b[0m\n\u001b[0;32m    853\u001b[0m     \u001b[0mp_pooled\u001b[0m \u001b[1;33m=\u001b[0m \u001b[0mnp\u001b[0m\u001b[1;33m.\u001b[0m\u001b[0msum\u001b[0m\u001b[1;33m(\u001b[0m\u001b[0mcount\u001b[0m\u001b[1;33m)\u001b[0m \u001b[1;33m*\u001b[0m \u001b[1;36m1.\u001b[0m \u001b[1;33m/\u001b[0m \u001b[0mnp\u001b[0m\u001b[1;33m.\u001b[0m\u001b[0msum\u001b[0m\u001b[1;33m(\u001b[0m\u001b[0mnobs\u001b[0m\u001b[1;33m)\u001b[0m\u001b[1;33m\u001b[0m\u001b[1;33m\u001b[0m\u001b[0m\n",
      "\u001b[1;31mNotImplementedError\u001b[0m: more than two samples are not implemented yet"
     ]
    }
   ],
   "source": [
    "z_score, p_value = snss.proportions_ztest(cnvrs0, cnvrs1, value=0, alternative='two-sided')"
   ]
  },
  {
   "cell_type": "code",
   "execution_count": 90,
   "id": "40e969bb",
   "metadata": {
    "scrolled": true
   },
   "outputs": [
    {
     "data": {
      "text/plain": [
       "Ttest_indResult(statistic=49.74818318142018, pvalue=0.0)"
      ]
     },
     "execution_count": 90,
     "metadata": {},
     "output_type": "execute_result"
    }
   ],
   "source": [
    "stats.ttest_ind(cnvrs0,      # Применяем Т-тест\n",
    "                cnvrs1,\n",
    "                equal_var=False)"
   ]
  },
  {
   "cell_type": "code",
   "execution_count": 84,
   "id": "056a6067",
   "metadata": {},
   "outputs": [
    {
     "data": {
      "text/plain": [
       "(0.8125046984452418, 0.7992004393900234)"
      ]
     },
     "execution_count": 84,
     "metadata": {},
     "output_type": "execute_result"
    }
   ],
   "source": [
    "cnvrs0.mean(), cnvrs1.mean() # 0.812517127968563, 0.7991309123804601"
   ]
  },
  {
   "cell_type": "code",
   "execution_count": 283,
   "id": "75284c5f",
   "metadata": {},
   "outputs": [
    {
     "name": "stdout",
     "output_type": "stream",
     "text": [
      "p-value: 0.011160301156558543\n"
     ]
    }
   ],
   "source": [
    "print('p-value:', p_value)\n",
    "p3 = p_value"
   ]
  },
  {
   "cell_type": "code",
   "execution_count": 284,
   "id": "1145e4da",
   "metadata": {},
   "outputs": [
    {
     "name": "stdout",
     "output_type": "stream",
     "text": [
      "0.011160301156558543 Вторая метрика\n",
      "False\n"
     ]
    }
   ],
   "source": [
    "print(p3, 'Вторая метрика')\n",
    "print(p3 > 0.05)"
   ]
  },
  {
   "cell_type": "code",
   "execution_count": null,
   "id": "3b9dc5a1",
   "metadata": {},
   "outputs": [],
   "source": []
  },
  {
   "cell_type": "markdown",
   "id": "74dbb96f",
   "metadata": {},
   "source": [
    "## Поправка Бонферрони"
   ]
  },
  {
   "cell_type": "code",
   "execution_count": 287,
   "id": "fbe31303",
   "metadata": {},
   "outputs": [],
   "source": [
    "from statsmodels.sandbox.stats.multicomp import multipletests"
   ]
  },
  {
   "cell_type": "code",
   "execution_count": 285,
   "id": "d87bfe72",
   "metadata": {},
   "outputs": [
    {
     "name": "stdout",
     "output_type": "stream",
     "text": [
      "[0.009394972687726509, 0.8608609808530691, 0.011160301156558543]\n"
     ]
    }
   ],
   "source": [
    "pval = [p1, p2, p3]\n",
    "print(pval)"
   ]
  },
  {
   "cell_type": "code",
   "execution_count": 288,
   "id": "8b4f4146",
   "metadata": {
    "scrolled": true
   },
   "outputs": [
    {
     "name": "stdout",
     "output_type": "stream",
     "text": [
      "[0.02818492 1.         0.0334809 ]\n",
      "[False  True False]\n"
     ]
    }
   ],
   "source": [
    "rejected, p_corrected, _, _ = multipletests(pval, alpha=0.05, method='bonferroni')\n",
    "print(p_corrected)\n",
    "print(p_corrected > 0.05)"
   ]
  },
  {
   "cell_type": "code",
   "execution_count": null,
   "id": "790bae22",
   "metadata": {},
   "outputs": [],
   "source": []
  }
 ],
 "metadata": {
  "kernelspec": {
   "display_name": "Python 3 (ipykernel)",
   "language": "python",
   "name": "python3"
  },
  "language_info": {
   "codemirror_mode": {
    "name": "ipython",
    "version": 3
   },
   "file_extension": ".py",
   "mimetype": "text/x-python",
   "name": "python",
   "nbconvert_exporter": "python",
   "pygments_lexer": "ipython3",
   "version": "3.9.13"
  }
 },
 "nbformat": 4,
 "nbformat_minor": 5
}

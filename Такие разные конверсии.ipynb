{
 "cells": [
  {
   "cell_type": "markdown",
   "id": "29b7a7ae",
   "metadata": {},
   "source": [
    "## Базовая обработка таблицы"
   ]
  },
  {
   "cell_type": "code",
   "execution_count": 445,
   "id": "07484ee2",
   "metadata": {},
   "outputs": [],
   "source": [
    "import pandas as pd\n",
    "import numpy as np\n",
    "import matplotlib.pyplot as plt\n",
    "import statsmodels.stats.api as snss\n",
    "from scipy import stats\n",
    "from datetime import datetime\n",
    "import seaborn as sns"
   ]
  },
  {
   "cell_type": "code",
   "execution_count": 446,
   "id": "e86325b7",
   "metadata": {
    "scrolled": true
   },
   "outputs": [],
   "source": [
    "raw_data = pd.read_csv('D:/access_log_202305221315.csv')\n",
    "DF = raw_data.copy()"
   ]
  },
  {
   "cell_type": "code",
   "execution_count": 447,
   "id": "fc266ee2",
   "metadata": {},
   "outputs": [
    {
     "data": {
      "text/html": [
       "<div>\n",
       "<style scoped>\n",
       "    .dataframe tbody tr th:only-of-type {\n",
       "        vertical-align: middle;\n",
       "    }\n",
       "\n",
       "    .dataframe tbody tr th {\n",
       "        vertical-align: top;\n",
       "    }\n",
       "\n",
       "    .dataframe thead th {\n",
       "        text-align: right;\n",
       "    }\n",
       "</style>\n",
       "<table border=\"1\" class=\"dataframe\">\n",
       "  <thead>\n",
       "    <tr style=\"text-align: right;\">\n",
       "      <th></th>\n",
       "      <th>dt</th>\n",
       "      <th>tme</th>\n",
       "      <th>host</th>\n",
       "      <th>uri</th>\n",
       "      <th>uuid</th>\n",
       "      <th>http_referer</th>\n",
       "    </tr>\n",
       "  </thead>\n",
       "  <tbody>\n",
       "    <tr>\n",
       "      <th>0</th>\n",
       "      <td>2023-03-17</td>\n",
       "      <td>2023-03-17 05:55:10</td>\n",
       "      <td>www.drom.ru</td>\n",
       "      <td>/reviews/</td>\n",
       "      <td>6AAAA5C6D9142BB6FFE942D1F5472FDC8</td>\n",
       "      <td>https://my.drom.ru/personal/messaging-modal/di...</td>\n",
       "    </tr>\n",
       "    <tr>\n",
       "      <th>1</th>\n",
       "      <td>2023-03-17</td>\n",
       "      <td>2023-03-17 13:50:37</td>\n",
       "      <td>www.drom.ru</td>\n",
       "      <td>/reviews/add/</td>\n",
       "      <td>BD39005A2C820F1D3451F40CDA98DFF19</td>\n",
       "      <td>https://www.drom.ru/reviews/mitsubishi/galant/</td>\n",
       "    </tr>\n",
       "    <tr>\n",
       "      <th>2</th>\n",
       "      <td>2023-03-20</td>\n",
       "      <td>2023-03-19 16:32:42</td>\n",
       "      <td>www.drom.ru</td>\n",
       "      <td>/reviews/</td>\n",
       "      <td>B6FB06DEF3CC3558F9AFD68D4154A5520</td>\n",
       "      <td>https://www.drom.ru/</td>\n",
       "    </tr>\n",
       "    <tr>\n",
       "      <th>3</th>\n",
       "      <td>2023-03-20</td>\n",
       "      <td>2023-03-19 16:37:11</td>\n",
       "      <td>www.drom.ru</td>\n",
       "      <td>/reviews/genesis/</td>\n",
       "      <td>B6FB06DEF3CC3558F9AFD68D4154A5520</td>\n",
       "      <td>https://www.drom.ru/reviews/</td>\n",
       "    </tr>\n",
       "    <tr>\n",
       "      <th>4</th>\n",
       "      <td>2023-03-20</td>\n",
       "      <td>2023-03-19 16:37:17</td>\n",
       "      <td>www.drom.ru</td>\n",
       "      <td>/reviews/genesis/</td>\n",
       "      <td>B6FB06DEF3CC3558F9AFD68D4154A5520</td>\n",
       "      <td>https://www.drom.ru/reviews/</td>\n",
       "    </tr>\n",
       "    <tr>\n",
       "      <th>...</th>\n",
       "      <td>...</td>\n",
       "      <td>...</td>\n",
       "      <td>...</td>\n",
       "      <td>...</td>\n",
       "      <td>...</td>\n",
       "      <td>...</td>\n",
       "    </tr>\n",
       "    <tr>\n",
       "      <th>207903</th>\n",
       "      <td>2023-03-14</td>\n",
       "      <td>2023-03-14 11:12:10</td>\n",
       "      <td>www.drom.ru</td>\n",
       "      <td>/reviews/</td>\n",
       "      <td>9B81E5A9A1289F3D3500DDC9D26FE41C3</td>\n",
       "      <td>https://www.drom.ru/</td>\n",
       "    </tr>\n",
       "    <tr>\n",
       "      <th>207904</th>\n",
       "      <td>2023-03-14</td>\n",
       "      <td>2023-03-14 09:55:36</td>\n",
       "      <td>www.drom.ru</td>\n",
       "      <td>/reviews/mitsubishi/</td>\n",
       "      <td>F52E431DFF91462574AA7DE81AA72B2A9</td>\n",
       "      <td>https://www.drom.ru/reviews/</td>\n",
       "    </tr>\n",
       "    <tr>\n",
       "      <th>207905</th>\n",
       "      <td>2023-03-14</td>\n",
       "      <td>2023-03-14 09:55:22</td>\n",
       "      <td>www.drom.ru</td>\n",
       "      <td>/reviews/</td>\n",
       "      <td>F52E431DFF91462574AA7DE81AA72B2A9</td>\n",
       "      <td>https://vladivostok.drom.ru/mitsubishi/pajero_...</td>\n",
       "    </tr>\n",
       "    <tr>\n",
       "      <th>207906</th>\n",
       "      <td>2023-03-14</td>\n",
       "      <td>2023-03-13 19:34:27</td>\n",
       "      <td>www.drom.ru</td>\n",
       "      <td>/reviews/infiniti/</td>\n",
       "      <td>4E7FA6AB2779C12B5739A6BBB7CA86553</td>\n",
       "      <td>NaN</td>\n",
       "    </tr>\n",
       "    <tr>\n",
       "      <th>207907</th>\n",
       "      <td>2023-03-14</td>\n",
       "      <td>2023-03-13 21:43:25</td>\n",
       "      <td>www.drom.ru</td>\n",
       "      <td>/reviews/delorean/</td>\n",
       "      <td>78EF84C687EF9F873546938CF36C599B6</td>\n",
       "      <td>NaN</td>\n",
       "    </tr>\n",
       "  </tbody>\n",
       "</table>\n",
       "<p>207908 rows × 6 columns</p>\n",
       "</div>"
      ],
      "text/plain": [
       "                dt                  tme         host                   uri  \\\n",
       "0       2023-03-17  2023-03-17 05:55:10  www.drom.ru             /reviews/   \n",
       "1       2023-03-17  2023-03-17 13:50:37  www.drom.ru         /reviews/add/   \n",
       "2       2023-03-20  2023-03-19 16:32:42  www.drom.ru             /reviews/   \n",
       "3       2023-03-20  2023-03-19 16:37:11  www.drom.ru     /reviews/genesis/   \n",
       "4       2023-03-20  2023-03-19 16:37:17  www.drom.ru     /reviews/genesis/   \n",
       "...            ...                  ...          ...                   ...   \n",
       "207903  2023-03-14  2023-03-14 11:12:10  www.drom.ru             /reviews/   \n",
       "207904  2023-03-14  2023-03-14 09:55:36  www.drom.ru  /reviews/mitsubishi/   \n",
       "207905  2023-03-14  2023-03-14 09:55:22  www.drom.ru             /reviews/   \n",
       "207906  2023-03-14  2023-03-13 19:34:27  www.drom.ru    /reviews/infiniti/   \n",
       "207907  2023-03-14  2023-03-13 21:43:25  www.drom.ru    /reviews/delorean/   \n",
       "\n",
       "                                     uuid  \\\n",
       "0       6AAAA5C6D9142BB6FFE942D1F5472FDC8   \n",
       "1       BD39005A2C820F1D3451F40CDA98DFF19   \n",
       "2       B6FB06DEF3CC3558F9AFD68D4154A5520   \n",
       "3       B6FB06DEF3CC3558F9AFD68D4154A5520   \n",
       "4       B6FB06DEF3CC3558F9AFD68D4154A5520   \n",
       "...                                   ...   \n",
       "207903  9B81E5A9A1289F3D3500DDC9D26FE41C3   \n",
       "207904  F52E431DFF91462574AA7DE81AA72B2A9   \n",
       "207905  F52E431DFF91462574AA7DE81AA72B2A9   \n",
       "207906  4E7FA6AB2779C12B5739A6BBB7CA86553   \n",
       "207907  78EF84C687EF9F873546938CF36C599B6   \n",
       "\n",
       "                                             http_referer  \n",
       "0       https://my.drom.ru/personal/messaging-modal/di...  \n",
       "1          https://www.drom.ru/reviews/mitsubishi/galant/  \n",
       "2                                    https://www.drom.ru/  \n",
       "3                            https://www.drom.ru/reviews/  \n",
       "4                            https://www.drom.ru/reviews/  \n",
       "...                                                   ...  \n",
       "207903                               https://www.drom.ru/  \n",
       "207904                       https://www.drom.ru/reviews/  \n",
       "207905  https://vladivostok.drom.ru/mitsubishi/pajero_...  \n",
       "207906                                                NaN  \n",
       "207907                                                NaN  \n",
       "\n",
       "[207908 rows x 6 columns]"
      ]
     },
     "execution_count": 447,
     "metadata": {},
     "output_type": "execute_result"
    }
   ],
   "source": [
    "DF"
   ]
  },
  {
   "cell_type": "code",
   "execution_count": 448,
   "id": "861a663d",
   "metadata": {},
   "outputs": [],
   "source": [
    "DF = DF.drop(columns=['dt', 'host'], axis=1) # Создаём новый df без столбцов с датой выгрызки на сервер и именем хоста"
   ]
  },
  {
   "cell_type": "code",
   "execution_count": 449,
   "id": "0991ca44",
   "metadata": {},
   "outputs": [],
   "source": [
    "#создаем столбец с флагом группы пользователя: 0 - контрольная группа, 1 - тестовая группа\n",
    "DF['group'] = DF['uuid'].apply(lambda x: int(x,base=16)) % 2 "
   ]
  },
  {
   "cell_type": "code",
   "execution_count": 450,
   "id": "2140b2ee",
   "metadata": {},
   "outputs": [],
   "source": [
    "DF['tme'] = DF['tme'].astype('datetime64')"
   ]
  },
  {
   "cell_type": "code",
   "execution_count": 451,
   "id": "d5bc261b",
   "metadata": {},
   "outputs": [
    {
     "data": {
      "text/plain": [
       "0        2023-03-17 05:55:10\n",
       "1        2023-03-17 13:50:37\n",
       "2        2023-03-19 16:32:42\n",
       "3        2023-03-19 16:37:11\n",
       "4        2023-03-19 16:37:17\n",
       "                 ...        \n",
       "207903   2023-03-14 11:12:10\n",
       "207904   2023-03-14 09:55:36\n",
       "207905   2023-03-14 09:55:22\n",
       "207906   2023-03-13 19:34:27\n",
       "207907   2023-03-13 21:43:25\n",
       "Name: tme, Length: 207908, dtype: datetime64[ns]"
      ]
     },
     "execution_count": 451,
     "metadata": {},
     "output_type": "execute_result"
    }
   ],
   "source": [
    "DF['tme']"
   ]
  },
  {
   "cell_type": "code",
   "execution_count": 452,
   "id": "a65e78b9",
   "metadata": {},
   "outputs": [],
   "source": [
    "DF = DF.drop_duplicates()"
   ]
  },
  {
   "cell_type": "code",
   "execution_count": 453,
   "id": "00b0f3dc",
   "metadata": {},
   "outputs": [],
   "source": [
    "DF[\"date\"] = DF[\"tme\"].dt.to_period(\"D\") # добавление столбца только с датой без времени, для более удобной группировки"
   ]
  },
  {
   "cell_type": "code",
   "execution_count": 454,
   "id": "35fab853",
   "metadata": {},
   "outputs": [],
   "source": [
    "DF = DF[(DF.date <= '2023-03-17') & (DF.date != '2023-03-10')]"
   ]
  },
  {
   "cell_type": "code",
   "execution_count": 455,
   "id": "6acf7fc7",
   "metadata": {},
   "outputs": [
    {
     "data": {
      "text/html": [
       "<div>\n",
       "<style scoped>\n",
       "    .dataframe tbody tr th:only-of-type {\n",
       "        vertical-align: middle;\n",
       "    }\n",
       "\n",
       "    .dataframe tbody tr th {\n",
       "        vertical-align: top;\n",
       "    }\n",
       "\n",
       "    .dataframe thead th {\n",
       "        text-align: right;\n",
       "    }\n",
       "</style>\n",
       "<table border=\"1\" class=\"dataframe\">\n",
       "  <thead>\n",
       "    <tr style=\"text-align: right;\">\n",
       "      <th></th>\n",
       "      <th>tme</th>\n",
       "      <th>uri</th>\n",
       "      <th>uuid</th>\n",
       "      <th>http_referer</th>\n",
       "      <th>group</th>\n",
       "      <th>date</th>\n",
       "    </tr>\n",
       "  </thead>\n",
       "  <tbody>\n",
       "    <tr>\n",
       "      <th>0</th>\n",
       "      <td>2023-03-17 05:55:10</td>\n",
       "      <td>/reviews/</td>\n",
       "      <td>6AAAA5C6D9142BB6FFE942D1F5472FDC8</td>\n",
       "      <td>https://my.drom.ru/personal/messaging-modal/di...</td>\n",
       "      <td>0</td>\n",
       "      <td>2023-03-17</td>\n",
       "    </tr>\n",
       "    <tr>\n",
       "      <th>1</th>\n",
       "      <td>2023-03-17 13:50:37</td>\n",
       "      <td>/reviews/add/</td>\n",
       "      <td>BD39005A2C820F1D3451F40CDA98DFF19</td>\n",
       "      <td>https://www.drom.ru/reviews/mitsubishi/galant/</td>\n",
       "      <td>1</td>\n",
       "      <td>2023-03-17</td>\n",
       "    </tr>\n",
       "    <tr>\n",
       "      <th>14</th>\n",
       "      <td>2023-03-12 20:56:22</td>\n",
       "      <td>/reviews/</td>\n",
       "      <td>15006932BBE8D02FF0A2D2A39133B6522</td>\n",
       "      <td>NaN</td>\n",
       "      <td>0</td>\n",
       "      <td>2023-03-12</td>\n",
       "    </tr>\n",
       "    <tr>\n",
       "      <th>26</th>\n",
       "      <td>2023-03-17 04:33:00</td>\n",
       "      <td>/reviews/opel/</td>\n",
       "      <td>F19346725C61AAC55BA962D2225A8A872</td>\n",
       "      <td>https://www.drom.ru/reviews/</td>\n",
       "      <td>0</td>\n",
       "      <td>2023-03-17</td>\n",
       "    </tr>\n",
       "    <tr>\n",
       "      <th>27</th>\n",
       "      <td>2023-03-17 04:32:54</td>\n",
       "      <td>/reviews/</td>\n",
       "      <td>F19346725C61AAC55BA962D2225A8A872</td>\n",
       "      <td>https://www.drom.ru/</td>\n",
       "      <td>0</td>\n",
       "      <td>2023-03-17</td>\n",
       "    </tr>\n",
       "    <tr>\n",
       "      <th>...</th>\n",
       "      <td>...</td>\n",
       "      <td>...</td>\n",
       "      <td>...</td>\n",
       "      <td>...</td>\n",
       "      <td>...</td>\n",
       "      <td>...</td>\n",
       "    </tr>\n",
       "    <tr>\n",
       "      <th>207903</th>\n",
       "      <td>2023-03-14 11:12:10</td>\n",
       "      <td>/reviews/</td>\n",
       "      <td>9B81E5A9A1289F3D3500DDC9D26FE41C3</td>\n",
       "      <td>https://www.drom.ru/</td>\n",
       "      <td>1</td>\n",
       "      <td>2023-03-14</td>\n",
       "    </tr>\n",
       "    <tr>\n",
       "      <th>207904</th>\n",
       "      <td>2023-03-14 09:55:36</td>\n",
       "      <td>/reviews/mitsubishi/</td>\n",
       "      <td>F52E431DFF91462574AA7DE81AA72B2A9</td>\n",
       "      <td>https://www.drom.ru/reviews/</td>\n",
       "      <td>1</td>\n",
       "      <td>2023-03-14</td>\n",
       "    </tr>\n",
       "    <tr>\n",
       "      <th>207905</th>\n",
       "      <td>2023-03-14 09:55:22</td>\n",
       "      <td>/reviews/</td>\n",
       "      <td>F52E431DFF91462574AA7DE81AA72B2A9</td>\n",
       "      <td>https://vladivostok.drom.ru/mitsubishi/pajero_...</td>\n",
       "      <td>1</td>\n",
       "      <td>2023-03-14</td>\n",
       "    </tr>\n",
       "    <tr>\n",
       "      <th>207906</th>\n",
       "      <td>2023-03-13 19:34:27</td>\n",
       "      <td>/reviews/infiniti/</td>\n",
       "      <td>4E7FA6AB2779C12B5739A6BBB7CA86553</td>\n",
       "      <td>NaN</td>\n",
       "      <td>1</td>\n",
       "      <td>2023-03-13</td>\n",
       "    </tr>\n",
       "    <tr>\n",
       "      <th>207907</th>\n",
       "      <td>2023-03-13 21:43:25</td>\n",
       "      <td>/reviews/delorean/</td>\n",
       "      <td>78EF84C687EF9F873546938CF36C599B6</td>\n",
       "      <td>NaN</td>\n",
       "      <td>0</td>\n",
       "      <td>2023-03-13</td>\n",
       "    </tr>\n",
       "  </tbody>\n",
       "</table>\n",
       "<p>99867 rows × 6 columns</p>\n",
       "</div>"
      ],
      "text/plain": [
       "                       tme                   uri  \\\n",
       "0      2023-03-17 05:55:10             /reviews/   \n",
       "1      2023-03-17 13:50:37         /reviews/add/   \n",
       "14     2023-03-12 20:56:22             /reviews/   \n",
       "26     2023-03-17 04:33:00        /reviews/opel/   \n",
       "27     2023-03-17 04:32:54             /reviews/   \n",
       "...                    ...                   ...   \n",
       "207903 2023-03-14 11:12:10             /reviews/   \n",
       "207904 2023-03-14 09:55:36  /reviews/mitsubishi/   \n",
       "207905 2023-03-14 09:55:22             /reviews/   \n",
       "207906 2023-03-13 19:34:27    /reviews/infiniti/   \n",
       "207907 2023-03-13 21:43:25    /reviews/delorean/   \n",
       "\n",
       "                                     uuid  \\\n",
       "0       6AAAA5C6D9142BB6FFE942D1F5472FDC8   \n",
       "1       BD39005A2C820F1D3451F40CDA98DFF19   \n",
       "14      15006932BBE8D02FF0A2D2A39133B6522   \n",
       "26      F19346725C61AAC55BA962D2225A8A872   \n",
       "27      F19346725C61AAC55BA962D2225A8A872   \n",
       "...                                   ...   \n",
       "207903  9B81E5A9A1289F3D3500DDC9D26FE41C3   \n",
       "207904  F52E431DFF91462574AA7DE81AA72B2A9   \n",
       "207905  F52E431DFF91462574AA7DE81AA72B2A9   \n",
       "207906  4E7FA6AB2779C12B5739A6BBB7CA86553   \n",
       "207907  78EF84C687EF9F873546938CF36C599B6   \n",
       "\n",
       "                                             http_referer group        date  \n",
       "0       https://my.drom.ru/personal/messaging-modal/di...     0  2023-03-17  \n",
       "1          https://www.drom.ru/reviews/mitsubishi/galant/     1  2023-03-17  \n",
       "14                                                    NaN     0  2023-03-12  \n",
       "26                           https://www.drom.ru/reviews/     0  2023-03-17  \n",
       "27                                   https://www.drom.ru/     0  2023-03-17  \n",
       "...                                                   ...   ...         ...  \n",
       "207903                               https://www.drom.ru/     1  2023-03-14  \n",
       "207904                       https://www.drom.ru/reviews/     1  2023-03-14  \n",
       "207905  https://vladivostok.drom.ru/mitsubishi/pajero_...     1  2023-03-14  \n",
       "207906                                                NaN     1  2023-03-13  \n",
       "207907                                                NaN     0  2023-03-13  \n",
       "\n",
       "[99867 rows x 6 columns]"
      ]
     },
     "execution_count": 455,
     "metadata": {},
     "output_type": "execute_result"
    }
   ],
   "source": [
    "DF"
   ]
  },
  {
   "cell_type": "code",
   "execution_count": 456,
   "id": "6b20b97f",
   "metadata": {},
   "outputs": [],
   "source": [
    "# Создаём отдельные dataframe для подсчёта будущих метрик\n",
    "metric_1 = DF.copy()\n",
    "metric_2 = DF.copy()\n",
    "metric_3 = DF.copy()"
   ]
  },
  {
   "cell_type": "code",
   "execution_count": 457,
   "id": "b2172751",
   "metadata": {},
   "outputs": [
    {
     "data": {
      "text/html": [
       "<div>\n",
       "<style scoped>\n",
       "    .dataframe tbody tr th:only-of-type {\n",
       "        vertical-align: middle;\n",
       "    }\n",
       "\n",
       "    .dataframe tbody tr th {\n",
       "        vertical-align: top;\n",
       "    }\n",
       "\n",
       "    .dataframe thead th {\n",
       "        text-align: right;\n",
       "    }\n",
       "</style>\n",
       "<table border=\"1\" class=\"dataframe\">\n",
       "  <thead>\n",
       "    <tr style=\"text-align: right;\">\n",
       "      <th></th>\n",
       "      <th>tme</th>\n",
       "      <th>uri</th>\n",
       "      <th>uuid</th>\n",
       "      <th>http_referer</th>\n",
       "      <th>group</th>\n",
       "      <th>date</th>\n",
       "    </tr>\n",
       "  </thead>\n",
       "  <tbody>\n",
       "    <tr>\n",
       "      <th>0</th>\n",
       "      <td>2023-03-17 05:55:10</td>\n",
       "      <td>/reviews/</td>\n",
       "      <td>6AAAA5C6D9142BB6FFE942D1F5472FDC8</td>\n",
       "      <td>https://my.drom.ru/personal/messaging-modal/di...</td>\n",
       "      <td>0</td>\n",
       "      <td>2023-03-17</td>\n",
       "    </tr>\n",
       "    <tr>\n",
       "      <th>1</th>\n",
       "      <td>2023-03-17 13:50:37</td>\n",
       "      <td>/reviews/add/</td>\n",
       "      <td>BD39005A2C820F1D3451F40CDA98DFF19</td>\n",
       "      <td>https://www.drom.ru/reviews/mitsubishi/galant/</td>\n",
       "      <td>1</td>\n",
       "      <td>2023-03-17</td>\n",
       "    </tr>\n",
       "    <tr>\n",
       "      <th>14</th>\n",
       "      <td>2023-03-12 20:56:22</td>\n",
       "      <td>/reviews/</td>\n",
       "      <td>15006932BBE8D02FF0A2D2A39133B6522</td>\n",
       "      <td>NaN</td>\n",
       "      <td>0</td>\n",
       "      <td>2023-03-12</td>\n",
       "    </tr>\n",
       "    <tr>\n",
       "      <th>26</th>\n",
       "      <td>2023-03-17 04:33:00</td>\n",
       "      <td>/reviews/opel/</td>\n",
       "      <td>F19346725C61AAC55BA962D2225A8A872</td>\n",
       "      <td>https://www.drom.ru/reviews/</td>\n",
       "      <td>0</td>\n",
       "      <td>2023-03-17</td>\n",
       "    </tr>\n",
       "    <tr>\n",
       "      <th>27</th>\n",
       "      <td>2023-03-17 04:32:54</td>\n",
       "      <td>/reviews/</td>\n",
       "      <td>F19346725C61AAC55BA962D2225A8A872</td>\n",
       "      <td>https://www.drom.ru/</td>\n",
       "      <td>0</td>\n",
       "      <td>2023-03-17</td>\n",
       "    </tr>\n",
       "    <tr>\n",
       "      <th>...</th>\n",
       "      <td>...</td>\n",
       "      <td>...</td>\n",
       "      <td>...</td>\n",
       "      <td>...</td>\n",
       "      <td>...</td>\n",
       "      <td>...</td>\n",
       "    </tr>\n",
       "    <tr>\n",
       "      <th>207903</th>\n",
       "      <td>2023-03-14 11:12:10</td>\n",
       "      <td>/reviews/</td>\n",
       "      <td>9B81E5A9A1289F3D3500DDC9D26FE41C3</td>\n",
       "      <td>https://www.drom.ru/</td>\n",
       "      <td>1</td>\n",
       "      <td>2023-03-14</td>\n",
       "    </tr>\n",
       "    <tr>\n",
       "      <th>207904</th>\n",
       "      <td>2023-03-14 09:55:36</td>\n",
       "      <td>/reviews/mitsubishi/</td>\n",
       "      <td>F52E431DFF91462574AA7DE81AA72B2A9</td>\n",
       "      <td>https://www.drom.ru/reviews/</td>\n",
       "      <td>1</td>\n",
       "      <td>2023-03-14</td>\n",
       "    </tr>\n",
       "    <tr>\n",
       "      <th>207905</th>\n",
       "      <td>2023-03-14 09:55:22</td>\n",
       "      <td>/reviews/</td>\n",
       "      <td>F52E431DFF91462574AA7DE81AA72B2A9</td>\n",
       "      <td>https://vladivostok.drom.ru/mitsubishi/pajero_...</td>\n",
       "      <td>1</td>\n",
       "      <td>2023-03-14</td>\n",
       "    </tr>\n",
       "    <tr>\n",
       "      <th>207906</th>\n",
       "      <td>2023-03-13 19:34:27</td>\n",
       "      <td>/reviews/infiniti/</td>\n",
       "      <td>4E7FA6AB2779C12B5739A6BBB7CA86553</td>\n",
       "      <td>NaN</td>\n",
       "      <td>1</td>\n",
       "      <td>2023-03-13</td>\n",
       "    </tr>\n",
       "    <tr>\n",
       "      <th>207907</th>\n",
       "      <td>2023-03-13 21:43:25</td>\n",
       "      <td>/reviews/delorean/</td>\n",
       "      <td>78EF84C687EF9F873546938CF36C599B6</td>\n",
       "      <td>NaN</td>\n",
       "      <td>0</td>\n",
       "      <td>2023-03-13</td>\n",
       "    </tr>\n",
       "  </tbody>\n",
       "</table>\n",
       "<p>99867 rows × 6 columns</p>\n",
       "</div>"
      ],
      "text/plain": [
       "                       tme                   uri  \\\n",
       "0      2023-03-17 05:55:10             /reviews/   \n",
       "1      2023-03-17 13:50:37         /reviews/add/   \n",
       "14     2023-03-12 20:56:22             /reviews/   \n",
       "26     2023-03-17 04:33:00        /reviews/opel/   \n",
       "27     2023-03-17 04:32:54             /reviews/   \n",
       "...                    ...                   ...   \n",
       "207903 2023-03-14 11:12:10             /reviews/   \n",
       "207904 2023-03-14 09:55:36  /reviews/mitsubishi/   \n",
       "207905 2023-03-14 09:55:22             /reviews/   \n",
       "207906 2023-03-13 19:34:27    /reviews/infiniti/   \n",
       "207907 2023-03-13 21:43:25    /reviews/delorean/   \n",
       "\n",
       "                                     uuid  \\\n",
       "0       6AAAA5C6D9142BB6FFE942D1F5472FDC8   \n",
       "1       BD39005A2C820F1D3451F40CDA98DFF19   \n",
       "14      15006932BBE8D02FF0A2D2A39133B6522   \n",
       "26      F19346725C61AAC55BA962D2225A8A872   \n",
       "27      F19346725C61AAC55BA962D2225A8A872   \n",
       "...                                   ...   \n",
       "207903  9B81E5A9A1289F3D3500DDC9D26FE41C3   \n",
       "207904  F52E431DFF91462574AA7DE81AA72B2A9   \n",
       "207905  F52E431DFF91462574AA7DE81AA72B2A9   \n",
       "207906  4E7FA6AB2779C12B5739A6BBB7CA86553   \n",
       "207907  78EF84C687EF9F873546938CF36C599B6   \n",
       "\n",
       "                                             http_referer group        date  \n",
       "0       https://my.drom.ru/personal/messaging-modal/di...     0  2023-03-17  \n",
       "1          https://www.drom.ru/reviews/mitsubishi/galant/     1  2023-03-17  \n",
       "14                                                    NaN     0  2023-03-12  \n",
       "26                           https://www.drom.ru/reviews/     0  2023-03-17  \n",
       "27                                   https://www.drom.ru/     0  2023-03-17  \n",
       "...                                                   ...   ...         ...  \n",
       "207903                               https://www.drom.ru/     1  2023-03-14  \n",
       "207904                       https://www.drom.ru/reviews/     1  2023-03-14  \n",
       "207905  https://vladivostok.drom.ru/mitsubishi/pajero_...     1  2023-03-14  \n",
       "207906                                                NaN     1  2023-03-13  \n",
       "207907                                                NaN     0  2023-03-13  \n",
       "\n",
       "[99867 rows x 6 columns]"
      ]
     },
     "execution_count": 457,
     "metadata": {},
     "output_type": "execute_result"
    }
   ],
   "source": [
    "DF # Смотрим на табличку, чтоб не забывать, как она выглядит"
   ]
  },
  {
   "cell_type": "markdown",
   "id": "59e8e3c9",
   "metadata": {},
   "source": [
    "## Общая посещаемость раздела с отзывами"
   ]
  },
  {
   "cell_type": "code",
   "execution_count": 39,
   "id": "7e3958c2",
   "metadata": {},
   "outputs": [],
   "source": [
    "def uri(link):                         # Функция для обработки ссылки, на которую перешёл пользователь\n",
    "    if link == '/reviews/':              \n",
    "        return 1\n",
    "    else:\n",
    "        return 0"
   ]
  },
  {
   "cell_type": "code",
   "execution_count": 40,
   "id": "5e92e8b6",
   "metadata": {},
   "outputs": [],
   "source": [
    "metric_1['converted'] = metric_1['uri'].apply(uri) # Создаем новый столбец, где 1 - посетил раздел с отзывами, 0 - не посетил"
   ]
  },
  {
   "cell_type": "code",
   "execution_count": 41,
   "id": "18ada40b",
   "metadata": {},
   "outputs": [
    {
     "name": "stdout",
     "output_type": "stream",
     "text": [
      "27814 49710\n"
     ]
    }
   ],
   "source": [
    "m1_mask1 = (metric_1['group'] == 0)                    # Количество перешедших пользователей в раздел с отзывами и их общее количество в контрольной группе\n",
    "m1_conversions_control = metric_1['converted'][m1_mask1].sum()\n",
    "m1_total_user_control = metric_1['converted'][m1_mask1].count()\n",
    "print(m1_conversions_control, m1_total_user_control)"
   ]
  },
  {
   "cell_type": "code",
   "execution_count": 42,
   "id": "e0e5cf38",
   "metadata": {},
   "outputs": [
    {
     "name": "stdout",
     "output_type": "stream",
     "text": [
      "28473 50157\n"
     ]
    }
   ],
   "source": [
    "m1_mask2 = (metric_1['group'] == 1)                       # Количество перешедших пользователей и их общее количество для тестовой группы\n",
    "m1_conversions_test = metric_1['converted'][m1_mask2].sum()\n",
    "m1_total_user_test = metric_1['converted'][m1_mask2].count()\n",
    "print(m1_conversions_test, m1_total_user_test)"
   ]
  },
  {
   "cell_type": "code",
   "execution_count": 43,
   "id": "d905f3c5",
   "metadata": {},
   "outputs": [
    {
     "name": "stdout",
     "output_type": "stream",
     "text": [
      "Соотношение контрольной и тестовой группы: 49.78 % 50.22 %\n"
     ]
    }
   ],
   "source": [
    "print('Соотношение контрольной и тестовой группы:', round(m1_total_user_control / metric_1['converted'].count() * 100, 2), \"%\",\n",
    "      round(m1_total_user_test / metric_1['converted'].count() * 100, 2), \"%\")"
   ]
  },
  {
   "cell_type": "code",
   "execution_count": 44,
   "id": "fa9fc1d6",
   "metadata": {},
   "outputs": [],
   "source": [
    "conversion_rate_control = m1_conversions_control / m1_total_user_control * 100\n",
    "conversion_rate_test = m1_conversions_test / m1_total_user_test * 100"
   ]
  },
  {
   "cell_type": "code",
   "execution_count": 45,
   "id": "dd19da0c",
   "metadata": {},
   "outputs": [],
   "source": [
    "count = np.array([m1_conversions_control, m1_conversions_test])                          # Z_статистика\n",
    "nobs = np.array([m1_total_user_control, m1_total_user_test])\n",
    "z_score, p_value = snss.proportions_ztest(count, nobs, value=0, alternative='two-sided')"
   ]
  },
  {
   "cell_type": "code",
   "execution_count": 46,
   "id": "ccb6a083",
   "metadata": {},
   "outputs": [
    {
     "name": "stdout",
     "output_type": "stream",
     "text": [
      "p-value: 0.009394972687726509\n"
     ]
    }
   ],
   "source": [
    "print('p-value:', p_value)\n",
    "p1 = p_value"
   ]
  },
  {
   "cell_type": "code",
   "execution_count": 47,
   "id": "de45b984",
   "metadata": {},
   "outputs": [
    {
     "name": "stdout",
     "output_type": "stream",
     "text": [
      "0.009394972687726509 Первая метрика\n",
      "False\n"
     ]
    }
   ],
   "source": [
    "print(p1, 'Первая метрика')\n",
    "print(p1 > 0.05)"
   ]
  },
  {
   "cell_type": "code",
   "execution_count": 538,
   "id": "031d3052",
   "metadata": {},
   "outputs": [
    {
     "ename": "NameError",
     "evalue": "name 'value' is not defined",
     "output_type": "error",
     "traceback": [
      "\u001b[1;31m---------------------------------------------------------------------------\u001b[0m",
      "\u001b[1;31mNameError\u001b[0m                                 Traceback (most recent call last)",
      "\u001b[1;32m~\\AppData\\Local\\Temp\\ipykernel_4812\\2541656271.py\u001b[0m in \u001b[0;36m<module>\u001b[1;34m\u001b[0m\n\u001b[0;32m     19\u001b[0m               fontweight='bold', pad=20)\n\u001b[0;32m     20\u001b[0m \u001b[1;33m\u001b[0m\u001b[0m\n\u001b[1;32m---> 21\u001b[1;33m \u001b[0mlabel\u001b[0m \u001b[1;33m=\u001b[0m \u001b[0mformat\u001b[0m\u001b[1;33m(\u001b[0m\u001b[0mint\u001b[0m\u001b[1;33m(\u001b[0m\u001b[0mvalue\u001b[0m\u001b[1;33m)\u001b[0m\u001b[1;33m,\u001b[0m \u001b[1;34m','\u001b[0m\u001b[1;33m)\u001b[0m\u001b[1;33m\u001b[0m\u001b[1;33m\u001b[0m\u001b[0m\n\u001b[0m\u001b[0;32m     22\u001b[0m \u001b[0mplt\u001b[0m\u001b[1;33m.\u001b[0m\u001b[0mannotate\u001b[0m\u001b[1;33m(\u001b[0m\u001b[0mlabel\u001b[0m\u001b[1;33m,\u001b[0m \u001b[0mxy\u001b[0m\u001b[1;33m=\u001b[0m\u001b[1;33m(\u001b[0m\u001b[0mvalue\u001b[0m\u001b[1;33m-\u001b[0m\u001b[1;36m300\u001b[0m\u001b[1;33m,\u001b[0m \u001b[0mindex\u001b[0m\u001b[1;33m-\u001b[0m\u001b[1;36m0.1\u001b[0m\u001b[1;33m)\u001b[0m\u001b[1;33m,\u001b[0m \u001b[0mcolor\u001b[0m\u001b[1;33m=\u001b[0m\u001b[1;34m'white'\u001b[0m\u001b[1;33m)\u001b[0m\u001b[1;33m\u001b[0m\u001b[1;33m\u001b[0m\u001b[0m\n\u001b[0;32m     23\u001b[0m \u001b[1;33m\u001b[0m\u001b[0m\n",
      "\u001b[1;31mNameError\u001b[0m: name 'value' is not defined"
     ]
    },
    {
     "data": {
      "image/png": "[encoded data removed]",
      "text/plain": [
       "<Figure size 800x800 with 1 Axes>"
      ]
     },
     "metadata": {},
     "output_type": "display_data"
    }
   ],
   "source": [
    "# Расчет процента конверсии для контрольной и тестовой группы\n",
    "conversion_rate_control = m1_conversions_control / m1_total_user_control * 100\n",
    "conversion_rate_test = m1_conversions_test / m1_total_user_test * 100\n",
    "\n",
    "\n",
    "conversion_data = {'Group': ['Control', 'Test'],\n",
    "                   'percent_of_conversion': [conversion_rate_control, conversion_rate_test]}\n",
    "\n",
    "conversion_df = pd.DataFrame(conversion_data)\n",
    "\n",
    "fig, ax = plt.subplots(figsize=(8,8))\n",
    "\n",
    "plt.bar(conversion_df['Group'], conversion_df['percent_of_conversion'], color='black')\n",
    "\n",
    "plt.xlabel('Group', fontsize=15, color='black')\n",
    "plt.ylabel('Percents', fontsize=15, color='black')\n",
    "\n",
    "ax.set_title('Процент пользователей в группах, совершивших переход', fontsize=16,\n",
    "              fontweight='bold', pad=20)\n",
    "\n",
    "plt.show()"
   ]
  },
  {
   "cell_type": "markdown",
   "id": "480e7439",
   "metadata": {},
   "source": [
    "## Ретеншн 2-го дня"
   ]
  },
  {
   "cell_type": "code",
   "execution_count": 9,
   "id": "3aa0154d",
   "metadata": {
    "scrolled": true
   },
   "outputs": [],
   "source": [
    "metric_2 = metric_2.drop_duplicates(subset=['date', 'uuid']) # Фильтрация уникальных значений uuid для каждого дня"
   ]
  },
  {
   "cell_type": "code",
   "execution_count": 10,
   "id": "55a4a808",
   "metadata": {},
   "outputs": [],
   "source": [
    "def conversions_control(n):                          #функция подсчёта ретеншена для контрольной группы\n",
    "    day_start = metric_2['uuid'][metric_2['date'] == f'2023-03-{n}'].tolist()\n",
    "    conversion = []\n",
    "    if n > 11:\n",
    "        for _ in range(n-11):\n",
    "            conversion.append(None)\n",
    "    for i in range(n, 18):\n",
    "        conversion_day_1 = []\n",
    "        day = metric_2['uuid'][metric_2['date'] == f'2023-03-{i}'][metric_2['group'] == 0].tolist()\n",
    "        for uuid in day_start:\n",
    "            if uuid in day:\n",
    "                conversion_day_1.append(int(uuid))\n",
    "        conversion.append(len(conversion_day_1))\n",
    "    return conversion"
   ]
  },
  {
   "cell_type": "code",
   "execution_count": 11,
   "id": "8235a9e3",
   "metadata": {},
   "outputs": [],
   "source": [
    "def conversions_test(n):                          #функция подсчёта ретеншена для тестовой группы\n",
    "    day_start = metric_2['uuid'][metric_2['date'] == f'2023-03-{n}'].tolist()\n",
    "    conversion = []\n",
    "    if n > 11:\n",
    "        for _ in range(n-11):\n",
    "            conversion.append(None)\n",
    "    for i in range(n, 18):\n",
    "        conversion_day_1 = []\n",
    "        day = metric_2['uuid'][metric_2['date'] == f'2023-03-{i}'][metric_2['group'] == 1].tolist()\n",
    "        for uuid in day_start:\n",
    "            if uuid in day:\n",
    "                conversion_day_1.append(int(uuid))\n",
    "        conversion.append(len(conversion_day_1))\n",
    "    return conversion"
   ]
  },
  {
   "cell_type": "code",
   "execution_count": 12,
   "id": "bb62f2c6",
   "metadata": {},
   "outputs": [],
   "source": [
    "conversion_control_day_1 = conversions_control(11)\n",
    "conversion_control_day_2 = conversions_control(12)\n",
    "conversion_control_day_3 = conversions_control(13)\n",
    "conversion_control_day_4 = conversions_control(14)\n",
    "conversion_control_day_5 = conversions_control(15)\n",
    "conversion_control_day_6 = conversions_control(16)\n",
    "conversion_control_day_7 = conversions_control(17)"
   ]
  },
  {
   "cell_type": "code",
   "execution_count": 13,
   "id": "e3c48a8f",
   "metadata": {},
   "outputs": [],
   "source": [
    "conversion_test_day_1 = conversions_test(11)\n",
    "conversion_test_day_2 = conversions_test(12)\n",
    "conversion_test_day_3 = conversions_test(13)\n",
    "conversion_test_day_4 = conversions_test(14)\n",
    "conversion_test_day_5 = conversions_test(15)\n",
    "conversion_test_day_6 = conversions_test(16)\n",
    "conversion_test_day_7 = conversions_test(17)"
   ]
  },
  {
   "cell_type": "code",
   "execution_count": 14,
   "id": "ae76e103",
   "metadata": {},
   "outputs": [
    {
     "data": {
      "text/html": [
       "<div>\n",
       "<style scoped>\n",
       "    .dataframe tbody tr th:only-of-type {\n",
       "        vertical-align: middle;\n",
       "    }\n",
       "\n",
       "    .dataframe tbody tr th {\n",
       "        vertical-align: top;\n",
       "    }\n",
       "\n",
       "    .dataframe thead th {\n",
       "        text-align: right;\n",
       "    }\n",
       "</style>\n",
       "<table border=\"1\" class=\"dataframe\">\n",
       "  <thead>\n",
       "    <tr style=\"text-align: right;\">\n",
       "      <th></th>\n",
       "      <th>2023-03-11</th>\n",
       "      <th>2023-03-12</th>\n",
       "      <th>2023-03-13</th>\n",
       "      <th>2023-03-14</th>\n",
       "      <th>2023-03-15</th>\n",
       "      <th>2023-03-16</th>\n",
       "      <th>2023-03-17</th>\n",
       "    </tr>\n",
       "  </thead>\n",
       "  <tbody>\n",
       "    <tr>\n",
       "      <th>0</th>\n",
       "      <td>4495.0</td>\n",
       "      <td>429.0</td>\n",
       "      <td>374.0</td>\n",
       "      <td>344.0</td>\n",
       "      <td>220.0</td>\n",
       "      <td>76.0</td>\n",
       "      <td>343.0</td>\n",
       "    </tr>\n",
       "    <tr>\n",
       "      <th>1</th>\n",
       "      <td>NaN</td>\n",
       "      <td>4366.0</td>\n",
       "      <td>404.0</td>\n",
       "      <td>367.0</td>\n",
       "      <td>230.0</td>\n",
       "      <td>82.0</td>\n",
       "      <td>324.0</td>\n",
       "    </tr>\n",
       "    <tr>\n",
       "      <th>2</th>\n",
       "      <td>NaN</td>\n",
       "      <td>NaN</td>\n",
       "      <td>4336.0</td>\n",
       "      <td>390.0</td>\n",
       "      <td>232.0</td>\n",
       "      <td>71.0</td>\n",
       "      <td>332.0</td>\n",
       "    </tr>\n",
       "    <tr>\n",
       "      <th>3</th>\n",
       "      <td>NaN</td>\n",
       "      <td>NaN</td>\n",
       "      <td>NaN</td>\n",
       "      <td>4190.0</td>\n",
       "      <td>285.0</td>\n",
       "      <td>85.0</td>\n",
       "      <td>337.0</td>\n",
       "    </tr>\n",
       "    <tr>\n",
       "      <th>4</th>\n",
       "      <td>NaN</td>\n",
       "      <td>NaN</td>\n",
       "      <td>NaN</td>\n",
       "      <td>NaN</td>\n",
       "      <td>3906.0</td>\n",
       "      <td>97.0</td>\n",
       "      <td>243.0</td>\n",
       "    </tr>\n",
       "    <tr>\n",
       "      <th>5</th>\n",
       "      <td>NaN</td>\n",
       "      <td>NaN</td>\n",
       "      <td>NaN</td>\n",
       "      <td>NaN</td>\n",
       "      <td>NaN</td>\n",
       "      <td>870.0</td>\n",
       "      <td>80.0</td>\n",
       "    </tr>\n",
       "    <tr>\n",
       "      <th>6</th>\n",
       "      <td>NaN</td>\n",
       "      <td>NaN</td>\n",
       "      <td>NaN</td>\n",
       "      <td>NaN</td>\n",
       "      <td>NaN</td>\n",
       "      <td>NaN</td>\n",
       "      <td>5406.0</td>\n",
       "    </tr>\n",
       "  </tbody>\n",
       "</table>\n",
       "</div>"
      ],
      "text/plain": [
       "   2023-03-11  2023-03-12  2023-03-13  2023-03-14  2023-03-15  2023-03-16  \\\n",
       "0      4495.0       429.0       374.0       344.0       220.0        76.0   \n",
       "1         NaN      4366.0       404.0       367.0       230.0        82.0   \n",
       "2         NaN         NaN      4336.0       390.0       232.0        71.0   \n",
       "3         NaN         NaN         NaN      4190.0       285.0        85.0   \n",
       "4         NaN         NaN         NaN         NaN      3906.0        97.0   \n",
       "5         NaN         NaN         NaN         NaN         NaN       870.0   \n",
       "6         NaN         NaN         NaN         NaN         NaN         NaN   \n",
       "\n",
       "   2023-03-17  \n",
       "0       343.0  \n",
       "1       324.0  \n",
       "2       332.0  \n",
       "3       337.0  \n",
       "4       243.0  \n",
       "5        80.0  \n",
       "6      5406.0  "
      ]
     },
     "execution_count": 14,
     "metadata": {},
     "output_type": "execute_result"
    }
   ],
   "source": [
    "df = pd.DataFrame(conversion_test_day_1).T\n",
    "df.loc[ len(df)] = conversion_test_day_2\n",
    "df.loc[ len(df)] = conversion_test_day_3\n",
    "df.loc[ len(df)] = conversion_test_day_4\n",
    "df.loc[ len(df)] = conversion_test_day_5\n",
    "df.loc[ len(df)] = conversion_test_day_6\n",
    "df.loc[ len(df)] = conversion_test_day_7\n",
    "df.columns = ['2023-03-11', '2023-03-12', '2023-03-13', '2023-03-14', '2023-03-15', '2023-03-16', '2023-03-17']\n",
    "df"
   ]
  },
  {
   "cell_type": "code",
   "execution_count": 15,
   "id": "0b7f23b7",
   "metadata": {},
   "outputs": [
    {
     "data": {
      "text/html": [
       "<div>\n",
       "<style scoped>\n",
       "    .dataframe tbody tr th:only-of-type {\n",
       "        vertical-align: middle;\n",
       "    }\n",
       "\n",
       "    .dataframe tbody tr th {\n",
       "        vertical-align: top;\n",
       "    }\n",
       "\n",
       "    .dataframe thead th {\n",
       "        text-align: right;\n",
       "    }\n",
       "</style>\n",
       "<table border=\"1\" class=\"dataframe\">\n",
       "  <thead>\n",
       "    <tr style=\"text-align: right;\">\n",
       "      <th></th>\n",
       "      <th>2023-03-11</th>\n",
       "      <th>2023-03-12</th>\n",
       "      <th>2023-03-13</th>\n",
       "      <th>2023-03-14</th>\n",
       "      <th>2023-03-15</th>\n",
       "      <th>2023-03-16</th>\n",
       "      <th>2023-03-17</th>\n",
       "    </tr>\n",
       "  </thead>\n",
       "  <tbody>\n",
       "    <tr>\n",
       "      <th>0</th>\n",
       "      <td>4595.0</td>\n",
       "      <td>417.0</td>\n",
       "      <td>387.0</td>\n",
       "      <td>322.0</td>\n",
       "      <td>235.0</td>\n",
       "      <td>54.0</td>\n",
       "      <td>326.0</td>\n",
       "    </tr>\n",
       "    <tr>\n",
       "      <th>1</th>\n",
       "      <td>NaN</td>\n",
       "      <td>4304.0</td>\n",
       "      <td>411.0</td>\n",
       "      <td>337.0</td>\n",
       "      <td>246.0</td>\n",
       "      <td>59.0</td>\n",
       "      <td>321.0</td>\n",
       "    </tr>\n",
       "    <tr>\n",
       "      <th>2</th>\n",
       "      <td>NaN</td>\n",
       "      <td>NaN</td>\n",
       "      <td>4393.0</td>\n",
       "      <td>382.0</td>\n",
       "      <td>251.0</td>\n",
       "      <td>51.0</td>\n",
       "      <td>347.0</td>\n",
       "    </tr>\n",
       "    <tr>\n",
       "      <th>3</th>\n",
       "      <td>NaN</td>\n",
       "      <td>NaN</td>\n",
       "      <td>NaN</td>\n",
       "      <td>4224.0</td>\n",
       "      <td>290.0</td>\n",
       "      <td>54.0</td>\n",
       "      <td>308.0</td>\n",
       "    </tr>\n",
       "    <tr>\n",
       "      <th>4</th>\n",
       "      <td>NaN</td>\n",
       "      <td>NaN</td>\n",
       "      <td>NaN</td>\n",
       "      <td>NaN</td>\n",
       "      <td>3893.0</td>\n",
       "      <td>75.0</td>\n",
       "      <td>260.0</td>\n",
       "    </tr>\n",
       "    <tr>\n",
       "      <th>5</th>\n",
       "      <td>NaN</td>\n",
       "      <td>NaN</td>\n",
       "      <td>NaN</td>\n",
       "      <td>NaN</td>\n",
       "      <td>NaN</td>\n",
       "      <td>860.0</td>\n",
       "      <td>57.0</td>\n",
       "    </tr>\n",
       "    <tr>\n",
       "      <th>6</th>\n",
       "      <td>NaN</td>\n",
       "      <td>NaN</td>\n",
       "      <td>NaN</td>\n",
       "      <td>NaN</td>\n",
       "      <td>NaN</td>\n",
       "      <td>NaN</td>\n",
       "      <td>5235.0</td>\n",
       "    </tr>\n",
       "  </tbody>\n",
       "</table>\n",
       "</div>"
      ],
      "text/plain": [
       "   2023-03-11  2023-03-12  2023-03-13  2023-03-14  2023-03-15  2023-03-16  \\\n",
       "0      4595.0       417.0       387.0       322.0       235.0        54.0   \n",
       "1         NaN      4304.0       411.0       337.0       246.0        59.0   \n",
       "2         NaN         NaN      4393.0       382.0       251.0        51.0   \n",
       "3         NaN         NaN         NaN      4224.0       290.0        54.0   \n",
       "4         NaN         NaN         NaN         NaN      3893.0        75.0   \n",
       "5         NaN         NaN         NaN         NaN         NaN       860.0   \n",
       "6         NaN         NaN         NaN         NaN         NaN         NaN   \n",
       "\n",
       "   2023-03-17  \n",
       "0       326.0  \n",
       "1       321.0  \n",
       "2       347.0  \n",
       "3       308.0  \n",
       "4       260.0  \n",
       "5        57.0  \n",
       "6      5235.0  "
      ]
     },
     "execution_count": 15,
     "metadata": {},
     "output_type": "execute_result"
    }
   ],
   "source": [
    "dff = pd.DataFrame(conversion_control_day_1).T\n",
    "dff.loc[ len(dff)] = conversion_control_day_2\n",
    "dff.loc[ len(dff)] = conversion_control_day_3\n",
    "dff.loc[ len(dff)] = conversion_control_day_4\n",
    "dff.loc[ len(dff)] = conversion_control_day_5\n",
    "dff.loc[ len(dff)] = conversion_control_day_6\n",
    "dff.loc[ len(dff)] = conversion_control_day_7\n",
    "dff.columns = ['2023-03-11', '2023-03-12', '2023-03-13', '2023-03-14', '2023-03-15', '2023-03-16', '2023-03-17']\n",
    "dff"
   ]
  },
  {
   "cell_type": "code",
   "execution_count": 18,
   "id": "e46561ce",
   "metadata": {},
   "outputs": [
    {
     "name": "stdout",
     "output_type": "stream",
     "text": [
      "0.8608609808530691\n",
      "0.3262722974448671\n",
      "0.45817753814088524\n",
      "0.410884349360221\n"
     ]
    }
   ],
   "source": [
    "control_conversion = []\n",
    "test_conversion = []\n",
    "for i in range(5):\n",
    "    if i != 3:\n",
    "        control_conversion.append(dff.iloc[i, i+2] / dff.iloc[i, i])\n",
    "        test_conversion.append(df.iloc[i, i+2] / df.iloc[i, i])\n",
    "        count = np.array([dff.iloc[i, i+2], df.iloc[i, i+2]])\n",
    "        nobs = np.array([dff.iloc[i, i], df.iloc[i, i]])\n",
    "        z_score, p_value = snss.proportions_ztest(count, nobs, value=0, alternative='two-sided')\n",
    "        print(p_value)"
   ]
  },
  {
   "cell_type": "code",
   "execution_count": 476,
   "id": "ce482895",
   "metadata": {},
   "outputs": [],
   "source": [
    "_, p2 = stats.ttest_ind(control_conversion,      # Применяем Т-тест\n",
    "                test_conversion,\n",
    "                equal_var=False)"
   ]
  },
  {
   "cell_type": "code",
   "execution_count": 20,
   "id": "ec77728b",
   "metadata": {},
   "outputs": [
    {
     "data": {
      "image/png": "[encoded data removed]",
      "text/plain": [
       "<Figure size 1500x800 with 2 Axes>"
      ]
     },
     "metadata": {},
     "output_type": "display_data"
    }
   ],
   "source": [
    "sns.set(rc = {'figure.figsize':(15,8)})\n",
    "ax = sns.heatmap(dff, annot=True, linewidth=.5, fmt='g')\n",
    "ax.set(xlabel=\"\", ylabel=\"\")\n",
    "ax.xaxis.tick_top()"
   ]
  },
  {
   "cell_type": "code",
   "execution_count": 21,
   "id": "d9f2722e",
   "metadata": {},
   "outputs": [
    {
     "data": {
      "image/png": "[encoded data removed]",
      "text/plain": [
       "<Figure size 1500x800 with 2 Axes>"
      ]
     },
     "metadata": {},
     "output_type": "display_data"
    }
   ],
   "source": [
    "sns.set(rc = {'figure.figsize':(15,8)})\n",
    "ax = sns.heatmap(df, annot=True, linewidth=.5, fmt='g')\n",
    "ax.set(xlabel=\"\", ylabel=\"\")\n",
    "ax.xaxis.tick_top()"
   ]
  },
  {
   "cell_type": "markdown",
   "id": "86ad0193",
   "metadata": {},
   "source": [
    "## Конверсия с главной страницы отзывов"
   ]
  },
  {
   "cell_type": "code",
   "execution_count": 458,
   "id": "477f9529",
   "metadata": {},
   "outputs": [],
   "source": [
    "HTTP_REFERER = 'https://www.drom.ru/reviews/'  # создаём переменную со значением реферальной ссылки\n",
    "                                                                # и словарь со всеми марками автомобилей\n",
    "BRAND = ['ac', 'aito', 'acura', 'alfa_romeo', 'alpina', 'aro', 'asia', 'aston_martin', 'audi', 'baic', 'baw', 'bmw',\n",
    "         'byd', 'bentley', 'brilliance', 'bugatti', 'buick', 'cadillac', 'changan', 'chery', 'chevrolet', 'chrysler',\n",
    "         'citroen', 'cupra', 'dw_hower', 'dacia', 'dadi', 'daewoo', 'daihatsu', 'daimler', 'datsun', 'delorean',\n",
    "         'derways', 'dodge', 'dongfeng', 'cheryexeed', 'eagle', 'evolute', 'faw', 'ferrari', 'fiat', 'fisker', 'ford',\n",
    "         'foton', 'freightliner', 'gac', 'gmc', 'geely', 'genesis', 'geo', 'great_wall', 'hafei', 'haima', 'haval',\n",
    "         'hawtai', 'hino', 'honda', 'hongqi', 'howo', 'hummer', 'hyundai', 'infiniti', 'iran_khodro', 'isuzu', 'jac',\n",
    "         'jaguar', 'jeep', 'jetour', 'kaiyi', 'kia', 'koenigsegg', 'lamborghini', 'lancia', 'land_rover', 'lexus',\n",
    "         'li', 'lifan', 'lincoln', 'lotus', 'luxgen', 'mini', 'marussia', 'maserati', 'maxus', 'maybach', 'mazda',\n",
    "         'mclaren', 'mercedes-benz', 'mercury', 'mitsubishi', 'mitsuoka', 'nissan', 'omoda', 'oldsmobile', 'opel',\n",
    "         'pagani', 'peugeot', 'plymouth', 'pontiac', 'porsche', 'proton', 'ram', 'ravon', 'renault', 'renault_samsung',\n",
    "         'rivian', 'rolls-royce', 'rover', 'seat', 'saab', 'saturn', 'scion', 'skoda', 'skywell', 'smart', 'ssang_yong',\n",
    "         'subaru', 'suzuki', 'tvr', 'tank', 'tesla', 'tianye', 'toyota', 'volkswagen', 'volvo', 'vortex', 'weltmeister',\n",
    "         'wiesmann', 'xin_kai', 'zx', 'zotye', 'bogdan', 'gaz', 'zaz', 'zil', 'izh', 'lada', 'luaz', 'moskvitch',\n",
    "         'tagaz', 'uaz']"
   ]
  },
  {
   "cell_type": "code",
   "execution_count": 459,
   "id": "458c2a01",
   "metadata": {},
   "outputs": [],
   "source": [
    "metric_3 = metric_3.loc[metric_3['http_referer'] == HTTP_REFERER] # Фильтрация таблицы по http_referer"
   ]
  },
  {
   "cell_type": "code",
   "execution_count": 460,
   "id": "8f1c3ced",
   "metadata": {},
   "outputs": [],
   "source": [
    "def uri(link):                 # Функция для обработки ссылки\n",
    "    link = str(link)\n",
    "    list1 = link.split(\"/\")\n",
    "    list1 = list(filter(None, list1))\n",
    "    if 'reviews' in list1 and list1[-1] in BRAND and list1[-2] not in BRAND:\n",
    "        return 1\n",
    "    else:\n",
    "        return 0"
   ]
  },
  {
   "cell_type": "code",
   "execution_count": 461,
   "id": "be04f761",
   "metadata": {},
   "outputs": [],
   "source": [
    "metric_3['converted'] = metric_3['uri'].apply(uri) # Создаем новый столбец, где 1 - есть конверсия, 0 - нет"
   ]
  },
  {
   "cell_type": "code",
   "execution_count": 463,
   "id": "4895bb7a",
   "metadata": {},
   "outputs": [
    {
     "name": "stdout",
     "output_type": "stream",
     "text": [
      "9512 11706\n"
     ]
    }
   ],
   "source": [
    "m3_mask1 = (metric_3['group'] == 0)              # Количество перешедших и их общее количество для контрольной группы\n",
    "m3_conversion_0 = metric_3['converted'][m3_mask1].to_numpy() # Создаём нампаевский массив для с конверсией для контрольной группы\n",
    "m3_conversions_control = int(metric_3['converted'][m3_mask1].sum())\n",
    "m3_total_user_control = int(metric_3['converted'][m3_mask1].count())\n",
    "print(m3_conversions_control, m3_total_user_control)"
   ]
  },
  {
   "cell_type": "code",
   "execution_count": 464,
   "id": "125eadc1",
   "metadata": {},
   "outputs": [
    {
     "name": "stdout",
     "output_type": "stream",
     "text": [
      "9279 11607\n"
     ]
    }
   ],
   "source": [
    "m3_mask2 = (metric_3['group'] == 1)                  # Количество перешедших и их общее количество для тестовой группы\n",
    "m3_conversion_1 = metric_3['converted'][m3_mask2].to_numpy() # Создаём нампаевский массив для с конверсией для тестовой группы\n",
    "m3_conversions_test = int(metric_3['converted'][m3_mask2].sum())\n",
    "m3_total_user_test = int(metric_3['converted'][m3_mask2].count())\n",
    "print(m3_conversions_test, m3_total_user_test)"
   ]
  },
  {
   "cell_type": "code",
   "execution_count": 465,
   "id": "2ce36d34",
   "metadata": {},
   "outputs": [
    {
     "name": "stdout",
     "output_type": "stream",
     "text": [
      "Соотношение контрольной и тестовой группы: 50.21 % 49.79 %\n"
     ]
    }
   ],
   "source": [
    "print('Соотношение контрольной и тестовой группы:', round(m3_total_user_control / metric_3['converted'].count() * 100, 2), \"%\",\n",
    "      round(m3_total_user_test / metric_3['converted'].count() * 100, 2), \"%\")"
   ]
  },
  {
   "cell_type": "code",
   "execution_count": 466,
   "id": "4e441838",
   "metadata": {},
   "outputs": [
    {
     "name": "stdout",
     "output_type": "stream",
     "text": [
      "0.011160301156558543\n"
     ]
    }
   ],
   "source": [
    "count = np.array([m3_conversions_control, m3_conversions_test])\n",
    "nobs = np.array([m3_total_user_control, m3_total_user_test])\n",
    "z_score, p_value = snss.proportions_ztest(count, nobs, value=0, alternative='two-sided')\n",
    "print(p_value)"
   ]
  },
  {
   "cell_type": "code",
   "execution_count": 467,
   "id": "51a7cd7c",
   "metadata": {},
   "outputs": [],
   "source": [
    "def bootstrap(m3_conversion_0, m3_conversion_1, n_bootstrap=3000): #Создаём функцию bootstrap\n",
    "\n",
    "    poisson_bootstraps1 = stats.poisson(1).rvs(\n",
    "        (2000, len(m3_conversion_0))).astype(np.int64)\n",
    "\n",
    "    poisson_bootstraps2 = stats.poisson(1).rvs(\n",
    "            (2000, len(m3_conversion_1))).astype(np.int64)\n",
    "    \n",
    "    conversion_control = (poisson_bootstraps1*m3_conversion_0).sum(axis=1) / len(m3_conversion_0)\n",
    "    \n",
    "    conversion_test = (poisson_bootstraps2*m3_conversion_1).sum(axis=1) / len(m3_conversion_1)\n",
    "\n",
    "    return conversion_control, conversion_test"
   ]
  },
  {
   "cell_type": "code",
   "execution_count": 468,
   "id": "383cc015",
   "metadata": {},
   "outputs": [],
   "source": [
    "cnvrs0, cnvrs1 = bootstrap(m3_conversion_0, m3_conversion_1)"
   ]
  },
  {
   "cell_type": "code",
   "execution_count": 469,
   "id": "7eb1ee83",
   "metadata": {},
   "outputs": [
    {
     "data": {
      "image/png": "[encoded data removed]",
      "text/plain": [
       "<Figure size 1500x800 with 1 Axes>"
      ]
     },
     "metadata": {},
     "output_type": "display_data"
    },
    {
     "name": "stdout",
     "output_type": "stream",
     "text": [
      "Ttest_indResult(statistic=48.787011450287004, pvalue=0.0)\n",
      "[0.8212028  0.80975568 0.81838373 ... 0.81060994 0.81821288 0.80796173] [0.80615146 0.79615749 0.79624365 ... 0.7972775  0.79469286 0.8041699 ]\n"
     ]
    }
   ],
   "source": [
    "plt.hist(cnvrs0, bins=30, alpha=0.5, label='Контрольная выборка')\n",
    "plt.hist(cnvrs1, bins=30, alpha=0.5, label='Тестовая выборка')\n",
    "plt.xlabel('Конверсия')\n",
    "plt.ylabel('Частота')\n",
    "plt.legend()\n",
    "plt.show()\n",
    "\n",
    "print(stats.ttest_ind(cnvrs0, cnvrs1, equal_var=False))\n",
    "print(cnvrs0, cnvrs1)"
   ]
  },
  {
   "cell_type": "code",
   "execution_count": 493,
   "id": "40e969bb",
   "metadata": {
    "scrolled": true
   },
   "outputs": [],
   "source": [
    "_, p3 = stats.ttest_ind(cnvrs0,      # Применяем Т-тест\n",
    "                cnvrs1,\n",
    "                equal_var=False,\n",
    "                   alternative='two-sided')"
   ]
  },
  {
   "cell_type": "code",
   "execution_count": 494,
   "id": "cfacf6ba",
   "metadata": {},
   "outputs": [
    {
     "data": {
      "text/plain": [
       "0.0"
      ]
     },
     "execution_count": 494,
     "metadata": {},
     "output_type": "execute_result"
    }
   ],
   "source": [
    "p3"
   ]
  },
  {
   "cell_type": "code",
   "execution_count": 472,
   "id": "056a6067",
   "metadata": {},
   "outputs": [
    {
     "data": {
      "text/plain": [
       "(0.8123342303092431, 0.7994669595933489)"
      ]
     },
     "execution_count": 472,
     "metadata": {},
     "output_type": "execute_result"
    }
   ],
   "source": [
    "cnvrs0.mean(), cnvrs1.mean() # 0.812517127968563, 0.7991309123804601"
   ]
  },
  {
   "cell_type": "code",
   "execution_count": 244,
   "id": "75284c5f",
   "metadata": {},
   "outputs": [
    {
     "name": "stdout",
     "output_type": "stream",
     "text": [
      "p-value: 0.011160301156558543\n"
     ]
    }
   ],
   "source": [
    "print('p-value:', p_value)\n",
    "p3 = p_value"
   ]
  },
  {
   "cell_type": "code",
   "execution_count": 66,
   "id": "1145e4da",
   "metadata": {},
   "outputs": [
    {
     "name": "stdout",
     "output_type": "stream",
     "text": [
      "0.009394972687726509 Вторая метрика\n",
      "False\n"
     ]
    }
   ],
   "source": [
    "print(p3, 'Вторая метрика')\n",
    "print(p3 > 0.05)"
   ]
  },
  {
   "cell_type": "code",
   "execution_count": 486,
   "id": "a67fe32d",
   "metadata": {},
   "outputs": [],
   "source": [
    "z_score, p_value = snss.proportions_ztest(0.812, 0.799, value=0, alternative='two-sided')"
   ]
  },
  {
   "cell_type": "code",
   "execution_count": 488,
   "id": "4e161462",
   "metadata": {},
   "outputs": [
    {
     "data": {
      "text/plain": [
       "nan"
      ]
     },
     "execution_count": 488,
     "metadata": {},
     "output_type": "execute_result"
    }
   ],
   "source": [
    "z_score"
   ]
  },
  {
   "cell_type": "code",
   "execution_count": 484,
   "id": "3b9dc5a1",
   "metadata": {},
   "outputs": [
    {
     "data": {
      "text/plain": [
       "0.8125747479924825"
      ]
     },
     "execution_count": 484,
     "metadata": {},
     "output_type": "execute_result"
    }
   ],
   "source": [
    "m3_conversions_control / m3_total_user_control"
   ]
  },
  {
   "cell_type": "code",
   "execution_count": 485,
   "id": "3161555b",
   "metadata": {},
   "outputs": [
    {
     "data": {
      "text/plain": [
       "0.7994313776169553"
      ]
     },
     "execution_count": 485,
     "metadata": {},
     "output_type": "execute_result"
    }
   ],
   "source": [
    "m3_conversions_test / m3_total_user_test"
   ]
  },
  {
   "cell_type": "markdown",
   "id": "74dbb96f",
   "metadata": {},
   "source": [
    "## Поправка Бонферрони"
   ]
  },
  {
   "cell_type": "code",
   "execution_count": 474,
   "id": "fbe31303",
   "metadata": {},
   "outputs": [],
   "source": [
    "from statsmodels.sandbox.stats.multicomp import multipletests"
   ]
  },
  {
   "cell_type": "code",
   "execution_count": 477,
   "id": "d87bfe72",
   "metadata": {},
   "outputs": [
    {
     "name": "stdout",
     "output_type": "stream",
     "text": [
      "[0.009394972687726509, 0.9322089007527383, 0.0]\n"
     ]
    }
   ],
   "source": [
    "pval = [p1, p2, p3]\n",
    "print(pval)"
   ]
  },
  {
   "cell_type": "code",
   "execution_count": 478,
   "id": "8b4f4146",
   "metadata": {
    "scrolled": true
   },
   "outputs": [
    {
     "name": "stdout",
     "output_type": "stream",
     "text": [
      "[0.02818492 1.         0.        ]\n",
      "[False  True False]\n"
     ]
    }
   ],
   "source": [
    "rejected, p_corrected, _, _ = multipletests(pval, alpha=0.05, method='bonferroni')\n",
    "print(p_corrected)\n",
    "print(p_corrected > 0.05)"
   ]
  }
 ],
 "metadata": {
  "kernelspec": {
   "display_name": "Python 3 (ipykernel)",
   "language": "python",
   "name": "python3"
  },
  "language_info": {
   "codemirror_mode": {
    "name": "ipython",
    "version": 3
   },
   "file_extension": ".py",
   "mimetype": "text/x-python",
   "name": "python",
   "nbconvert_exporter": "python",
   "pygments_lexer": "ipython3",
   "version": "3.9.13"
  }
 },
 "nbformat": 4,
 "nbformat_minor": 5
}

{
 "cells": [
  {
   "cell_type": "markdown",
   "id": "29b7a7ae",
   "metadata": {},
   "source": [
    "# Обработка исходных данных"
   ]
  },
  {
   "cell_type": "markdown",
   "id": "28007d46",
   "metadata": {},
   "source": [
    "Импортируем необходимые библиотеки"
   ]
  },
  {
   "cell_type": "code",
   "execution_count": 1,
   "id": "07484ee2",
   "metadata": {},
   "outputs": [],
   "source": [
    "import pandas as pd\n",
    "import numpy as np\n",
    "import matplotlib.pyplot as plt\n",
    "import statsmodels.stats.api as statsmodels\n",
    "import seaborn as sns\n",
    "from statsmodels.sandbox.stats.multicomp import multipletests\n",
    "from scipy import stats"
   ]
  },
  {
   "cell_type": "markdown",
   "id": "5da9f03f",
   "metadata": {},
   "source": [
    "Читаем файл и сохраняем его в переменной DF"
   ]
  },
  {
   "cell_type": "code",
   "execution_count": 2,
   "id": "e86325b7",
   "metadata": {
    "scrolled": true
   },
   "outputs": [],
   "source": [
    "raw_data = pd.read_csv('D:/access_log_202305221315.csv')\n",
    "DF = raw_data.copy()"
   ]
  },
  {
   "cell_type": "markdown",
   "id": "dec46e16",
   "metadata": {},
   "source": [
    "Получаем общую информацию о предоставленных данных"
   ]
  },
  {
   "cell_type": "code",
   "execution_count": 3,
   "id": "fc266ee2",
   "metadata": {},
   "outputs": [
    {
     "name": "stdout",
     "output_type": "stream",
     "text": [
      "<class 'pandas.core.frame.DataFrame'>\n",
      "RangeIndex: 207908 entries, 0 to 207907\n",
      "Data columns (total 6 columns):\n",
      " #   Column        Non-Null Count   Dtype \n",
      "---  ------        --------------   ----- \n",
      " 0   dt            207908 non-null  object\n",
      " 1   tme           207908 non-null  object\n",
      " 2   host          207908 non-null  object\n",
      " 3   uri           207908 non-null  object\n",
      " 4   uuid          207908 non-null  object\n",
      " 5   http_referer  137693 non-null  object\n",
      "dtypes: object(6)\n",
      "memory usage: 9.5+ MB\n"
     ]
    }
   ],
   "source": [
    "DF.info()"
   ]
  },
  {
   "cell_type": "markdown",
   "id": "47f6b5cd",
   "metadata": {},
   "source": [
    "Перед началом А/B-тестом был проведён АA-тест, где пользователи были поделены на **контрольную** (*uuid чётный*) и **тестовую** (*uuid нечётный*) группы"
   ]
  },
  {
   "cell_type": "markdown",
   "id": "ae9446e3",
   "metadata": {},
   "source": [
    "Поэтому мы создим дополнительный столбец, где **0** будут обозначаться пользователи из **контрольной** группы, а **1** - из **тестовой**"
   ]
  },
  {
   "cell_type": "code",
   "execution_count": 4,
   "id": "0991ca44",
   "metadata": {},
   "outputs": [],
   "source": [
    "DF['group'] = DF['uuid'].apply(lambda x: int(x,base=16)) % 2"
   ]
  },
  {
   "cell_type": "markdown",
   "id": "82291e52",
   "metadata": {},
   "source": [
    "Далее делаем наш df удобным для последующего анализа"
   ]
  },
  {
   "cell_type": "code",
   "execution_count": 5,
   "id": "2140b2ee",
   "metadata": {},
   "outputs": [],
   "source": [
    "DF['tme'] = DF['tme'].astype('datetime64') # переводим столбец с временем в формат datetime\n",
    "DF['uuid'] = DF['uuid'].apply(int, base=16) # переводим столбец uuid в десятичную систему"
   ]
  },
  {
   "cell_type": "code",
   "execution_count": 6,
   "id": "a65e78b9",
   "metadata": {},
   "outputs": [],
   "source": [
    "DF = DF.drop_duplicates() # удаляём дубли на основе всей таблицы"
   ]
  },
  {
   "cell_type": "code",
   "execution_count": 7,
   "id": "00b0f3dc",
   "metadata": {},
   "outputs": [],
   "source": [
    "DF[\"date\"] = DF[\"tme\"].dt.to_period(\"D\") # добавляем столбец только с датой без времени, для более последующей группировки"
   ]
  },
  {
   "cell_type": "markdown",
   "id": "98c6ad0b",
   "metadata": {},
   "source": [
    "Группируем данные по дате и обнаруживаем, что в логе есть \"лишние\" события, в которые наш эксперимент не проводился. Кроме того замечаем, что 2023-03-16 мы получили **аномально низкое число событий**"
   ]
  },
  {
   "cell_type": "code",
   "execution_count": 8,
   "id": "706efce2",
   "metadata": {},
   "outputs": [
    {
     "data": {
      "text/html": [
       "<div>\n",
       "<style scoped>\n",
       "    .dataframe tbody tr th:only-of-type {\n",
       "        vertical-align: middle;\n",
       "    }\n",
       "\n",
       "    .dataframe tbody tr th {\n",
       "        vertical-align: top;\n",
       "    }\n",
       "\n",
       "    .dataframe thead th {\n",
       "        text-align: right;\n",
       "    }\n",
       "</style>\n",
       "<table border=\"1\" class=\"dataframe\">\n",
       "  <thead>\n",
       "    <tr style=\"text-align: right;\">\n",
       "      <th></th>\n",
       "      <th>dt</th>\n",
       "      <th>tme</th>\n",
       "      <th>host</th>\n",
       "      <th>uri</th>\n",
       "      <th>uuid</th>\n",
       "      <th>http_referer</th>\n",
       "      <th>group</th>\n",
       "    </tr>\n",
       "    <tr>\n",
       "      <th>date</th>\n",
       "      <th></th>\n",
       "      <th></th>\n",
       "      <th></th>\n",
       "      <th></th>\n",
       "      <th></th>\n",
       "      <th></th>\n",
       "      <th></th>\n",
       "    </tr>\n",
       "  </thead>\n",
       "  <tbody>\n",
       "    <tr>\n",
       "      <th>2023-03-10</th>\n",
       "      <td>6820</td>\n",
       "      <td>6820</td>\n",
       "      <td>6820</td>\n",
       "      <td>6820</td>\n",
       "      <td>6820</td>\n",
       "      <td>5263</td>\n",
       "      <td>6820</td>\n",
       "    </tr>\n",
       "    <tr>\n",
       "      <th>2023-03-11</th>\n",
       "      <td>17852</td>\n",
       "      <td>17852</td>\n",
       "      <td>17852</td>\n",
       "      <td>17852</td>\n",
       "      <td>17852</td>\n",
       "      <td>14039</td>\n",
       "      <td>17852</td>\n",
       "    </tr>\n",
       "    <tr>\n",
       "      <th>2023-03-12</th>\n",
       "      <td>15467</td>\n",
       "      <td>15467</td>\n",
       "      <td>15467</td>\n",
       "      <td>15467</td>\n",
       "      <td>15467</td>\n",
       "      <td>11465</td>\n",
       "      <td>15467</td>\n",
       "    </tr>\n",
       "    <tr>\n",
       "      <th>2023-03-13</th>\n",
       "      <td>15825</td>\n",
       "      <td>15825</td>\n",
       "      <td>15825</td>\n",
       "      <td>15825</td>\n",
       "      <td>15825</td>\n",
       "      <td>11881</td>\n",
       "      <td>15825</td>\n",
       "    </tr>\n",
       "    <tr>\n",
       "      <th>2023-03-14</th>\n",
       "      <td>15012</td>\n",
       "      <td>15012</td>\n",
       "      <td>15012</td>\n",
       "      <td>15012</td>\n",
       "      <td>15012</td>\n",
       "      <td>11120</td>\n",
       "      <td>15012</td>\n",
       "    </tr>\n",
       "    <tr>\n",
       "      <th>2023-03-15</th>\n",
       "      <td>14686</td>\n",
       "      <td>14686</td>\n",
       "      <td>14686</td>\n",
       "      <td>14686</td>\n",
       "      <td>14686</td>\n",
       "      <td>11011</td>\n",
       "      <td>14686</td>\n",
       "    </tr>\n",
       "    <tr>\n",
       "      <th>2023-03-16</th>\n",
       "      <td>2905</td>\n",
       "      <td>2905</td>\n",
       "      <td>2905</td>\n",
       "      <td>2905</td>\n",
       "      <td>2905</td>\n",
       "      <td>1932</td>\n",
       "      <td>2905</td>\n",
       "    </tr>\n",
       "    <tr>\n",
       "      <th>2023-03-17</th>\n",
       "      <td>18120</td>\n",
       "      <td>18120</td>\n",
       "      <td>18120</td>\n",
       "      <td>18120</td>\n",
       "      <td>18120</td>\n",
       "      <td>12697</td>\n",
       "      <td>18120</td>\n",
       "    </tr>\n",
       "    <tr>\n",
       "      <th>2023-03-18</th>\n",
       "      <td>22407</td>\n",
       "      <td>22407</td>\n",
       "      <td>22407</td>\n",
       "      <td>22407</td>\n",
       "      <td>22407</td>\n",
       "      <td>13002</td>\n",
       "      <td>22407</td>\n",
       "    </tr>\n",
       "    <tr>\n",
       "      <th>2023-03-19</th>\n",
       "      <td>21519</td>\n",
       "      <td>21519</td>\n",
       "      <td>21519</td>\n",
       "      <td>21519</td>\n",
       "      <td>21519</td>\n",
       "      <td>12322</td>\n",
       "      <td>21519</td>\n",
       "    </tr>\n",
       "    <tr>\n",
       "      <th>2023-03-20</th>\n",
       "      <td>22191</td>\n",
       "      <td>22191</td>\n",
       "      <td>22191</td>\n",
       "      <td>22191</td>\n",
       "      <td>22191</td>\n",
       "      <td>13089</td>\n",
       "      <td>22191</td>\n",
       "    </tr>\n",
       "    <tr>\n",
       "      <th>2023-03-21</th>\n",
       "      <td>21928</td>\n",
       "      <td>21928</td>\n",
       "      <td>21928</td>\n",
       "      <td>21928</td>\n",
       "      <td>21928</td>\n",
       "      <td>12529</td>\n",
       "      <td>21928</td>\n",
       "    </tr>\n",
       "    <tr>\n",
       "      <th>2023-03-22</th>\n",
       "      <td>12563</td>\n",
       "      <td>12563</td>\n",
       "      <td>12563</td>\n",
       "      <td>12563</td>\n",
       "      <td>12563</td>\n",
       "      <td>6888</td>\n",
       "      <td>12563</td>\n",
       "    </tr>\n",
       "  </tbody>\n",
       "</table>\n",
       "</div>"
      ],
      "text/plain": [
       "               dt    tme   host    uri   uuid  http_referer  group\n",
       "date                                                              \n",
       "2023-03-10   6820   6820   6820   6820   6820          5263   6820\n",
       "2023-03-11  17852  17852  17852  17852  17852         14039  17852\n",
       "2023-03-12  15467  15467  15467  15467  15467         11465  15467\n",
       "2023-03-13  15825  15825  15825  15825  15825         11881  15825\n",
       "2023-03-14  15012  15012  15012  15012  15012         11120  15012\n",
       "2023-03-15  14686  14686  14686  14686  14686         11011  14686\n",
       "2023-03-16   2905   2905   2905   2905   2905          1932   2905\n",
       "2023-03-17  18120  18120  18120  18120  18120         12697  18120\n",
       "2023-03-18  22407  22407  22407  22407  22407         13002  22407\n",
       "2023-03-19  21519  21519  21519  21519  21519         12322  21519\n",
       "2023-03-20  22191  22191  22191  22191  22191         13089  22191\n",
       "2023-03-21  21928  21928  21928  21928  21928         12529  21928\n",
       "2023-03-22  12563  12563  12563  12563  12563          6888  12563"
      ]
     },
     "execution_count": 8,
     "metadata": {},
     "output_type": "execute_result"
    }
   ],
   "source": [
    "DF.groupby('date').count()"
   ]
  },
  {
   "cell_type": "markdown",
   "id": "f124b8f1",
   "metadata": {},
   "source": [
    "Проверяем равномерность распределения тестовой и контрольной групп в этот день и принимаем решение **оставить эти данные для анализа**, поскольку группы в них распределены равномерно. Кроме того мы обнаруживаем, что **для многих пользователей пропущена информация из столбца 'http_referer'**, однако также принимаем решение оставить эти данные, поскольку юзеры могли переходить на странички из закладок, автоматически при запуске браузера и т.д., поэтому у нас нет оснований отбрасывать эти события, принимая их за ошибки или за ботов."
   ]
  },
  {
   "cell_type": "code",
   "execution_count": 9,
   "id": "a0396576",
   "metadata": {},
   "outputs": [
    {
     "data": {
      "text/plain": [
       "group\n",
       "0    1404\n",
       "1    1501\n",
       "Name: date, dtype: int64"
      ]
     },
     "execution_count": 9,
     "metadata": {},
     "output_type": "execute_result"
    }
   ],
   "source": [
    "DF.groupby('group')['date'].apply(lambda x: (x=='2023-03-16').sum())"
   ]
  },
  {
   "cell_type": "markdown",
   "id": "15245a71",
   "metadata": {},
   "source": [
    "Удаляем из нашего файла все события, совершённые не в дату эксперимента, а также удаляем ненужные для анализа стобцы."
   ]
  },
  {
   "cell_type": "code",
   "execution_count": 10,
   "id": "35fab853",
   "metadata": {},
   "outputs": [],
   "source": [
    "DF = DF[(DF.date <= '2023-03-17') & (DF.date != '2023-03-10')] # оставляем в таблице данные, соответствующие по времени с проведением АБ-теста"
   ]
  },
  {
   "cell_type": "code",
   "execution_count": 11,
   "id": "1cd709c8",
   "metadata": {},
   "outputs": [],
   "source": [
    "DF = DF.drop(columns=['dt', 'host', 'tme'], axis=1) # удаляём ненужные для анализа столбцы с датой выгрузки на сервер и именем хоста"
   ]
  },
  {
   "cell_type": "markdown",
   "id": "06068227",
   "metadata": {},
   "source": [
    "Получаем готовый для последующего анализа файл, который выглядит следующим образом:"
   ]
  },
  {
   "cell_type": "code",
   "execution_count": 15,
   "id": "6acf7fc7",
   "metadata": {},
   "outputs": [
    {
     "data": {
      "text/html": [
       "<div>\n",
       "<style scoped>\n",
       "    .dataframe tbody tr th:only-of-type {\n",
       "        vertical-align: middle;\n",
       "    }\n",
       "\n",
       "    .dataframe tbody tr th {\n",
       "        vertical-align: top;\n",
       "    }\n",
       "\n",
       "    .dataframe thead th {\n",
       "        text-align: right;\n",
       "    }\n",
       "</style>\n",
       "<table border=\"1\" class=\"dataframe\">\n",
       "  <thead>\n",
       "    <tr style=\"text-align: right;\">\n",
       "      <th></th>\n",
       "      <th>uri</th>\n",
       "      <th>uuid</th>\n",
       "      <th>http_referer</th>\n",
       "      <th>group</th>\n",
       "      <th>date</th>\n",
       "    </tr>\n",
       "  </thead>\n",
       "  <tbody>\n",
       "    <tr>\n",
       "      <th>0</th>\n",
       "      <td>/reviews/</td>\n",
       "      <td>2268547525937526650555891656148454145480</td>\n",
       "      <td>https://my.drom.ru/personal/messaging-modal/di...</td>\n",
       "      <td>0</td>\n",
       "      <td>2023-03-17</td>\n",
       "    </tr>\n",
       "    <tr>\n",
       "      <th>1</th>\n",
       "      <td>/reviews/add/</td>\n",
       "      <td>4024320948297516537605569996811097997081</td>\n",
       "      <td>https://www.drom.ru/reviews/mitsubishi/galant/</td>\n",
       "      <td>1</td>\n",
       "      <td>2023-03-17</td>\n",
       "    </tr>\n",
       "    <tr>\n",
       "      <th>14</th>\n",
       "      <td>/reviews/</td>\n",
       "      <td>446654745344878291726376411046023488802</td>\n",
       "      <td>NaN</td>\n",
       "      <td>0</td>\n",
       "      <td>2023-03-12</td>\n",
       "    </tr>\n",
       "    <tr>\n",
       "      <th>26</th>\n",
       "      <td>/reviews/opel/</td>\n",
       "      <td>5137738295226285126804121618493242648690</td>\n",
       "      <td>https://www.drom.ru/reviews/</td>\n",
       "      <td>0</td>\n",
       "      <td>2023-03-17</td>\n",
       "    </tr>\n",
       "    <tr>\n",
       "      <th>27</th>\n",
       "      <td>/reviews/</td>\n",
       "      <td>5137738295226285126804121618493242648690</td>\n",
       "      <td>https://www.drom.ru/</td>\n",
       "      <td>0</td>\n",
       "      <td>2023-03-17</td>\n",
       "    </tr>\n",
       "    <tr>\n",
       "      <th>...</th>\n",
       "      <td>...</td>\n",
       "      <td>...</td>\n",
       "      <td>...</td>\n",
       "      <td>...</td>\n",
       "      <td>...</td>\n",
       "    </tr>\n",
       "    <tr>\n",
       "      <th>207903</th>\n",
       "      <td>/reviews/</td>\n",
       "      <td>3307276860042365596907732287101494772163</td>\n",
       "      <td>https://www.drom.ru/</td>\n",
       "      <td>1</td>\n",
       "      <td>2023-03-14</td>\n",
       "    </tr>\n",
       "    <tr>\n",
       "      <th>207904</th>\n",
       "      <td>/reviews/mitsubishi/</td>\n",
       "      <td>5214417054735223224204903083620523225769</td>\n",
       "      <td>https://www.drom.ru/reviews/</td>\n",
       "      <td>1</td>\n",
       "      <td>2023-03-14</td>\n",
       "    </tr>\n",
       "    <tr>\n",
       "      <th>207905</th>\n",
       "      <td>/reviews/</td>\n",
       "      <td>5214417054735223224204903083620523225769</td>\n",
       "      <td>https://vladivostok.drom.ru/mitsubishi/pajero_...</td>\n",
       "      <td>1</td>\n",
       "      <td>2023-03-14</td>\n",
       "    </tr>\n",
       "    <tr>\n",
       "      <th>207906</th>\n",
       "      <td>/reviews/infiniti/</td>\n",
       "      <td>1669481372999751438963914918031912363347</td>\n",
       "      <td>NaN</td>\n",
       "      <td>1</td>\n",
       "      <td>2023-03-13</td>\n",
       "    </tr>\n",
       "    <tr>\n",
       "      <th>207907</th>\n",
       "      <td>/reviews/delorean/</td>\n",
       "      <td>2572016183211100021499201044098306120118</td>\n",
       "      <td>NaN</td>\n",
       "      <td>0</td>\n",
       "      <td>2023-03-13</td>\n",
       "    </tr>\n",
       "  </tbody>\n",
       "</table>\n",
       "<p>99867 rows × 5 columns</p>\n",
       "</div>"
      ],
      "text/plain": [
       "                         uri                                      uuid  \\\n",
       "0                  /reviews/  2268547525937526650555891656148454145480   \n",
       "1              /reviews/add/  4024320948297516537605569996811097997081   \n",
       "14                 /reviews/   446654745344878291726376411046023488802   \n",
       "26            /reviews/opel/  5137738295226285126804121618493242648690   \n",
       "27                 /reviews/  5137738295226285126804121618493242648690   \n",
       "...                      ...                                       ...   \n",
       "207903             /reviews/  3307276860042365596907732287101494772163   \n",
       "207904  /reviews/mitsubishi/  5214417054735223224204903083620523225769   \n",
       "207905             /reviews/  5214417054735223224204903083620523225769   \n",
       "207906    /reviews/infiniti/  1669481372999751438963914918031912363347   \n",
       "207907    /reviews/delorean/  2572016183211100021499201044098306120118   \n",
       "\n",
       "                                             http_referer group        date  \n",
       "0       https://my.drom.ru/personal/messaging-modal/di...     0  2023-03-17  \n",
       "1          https://www.drom.ru/reviews/mitsubishi/galant/     1  2023-03-17  \n",
       "14                                                    NaN     0  2023-03-12  \n",
       "26                           https://www.drom.ru/reviews/     0  2023-03-17  \n",
       "27                                   https://www.drom.ru/     0  2023-03-17  \n",
       "...                                                   ...   ...         ...  \n",
       "207903                               https://www.drom.ru/     1  2023-03-14  \n",
       "207904                       https://www.drom.ru/reviews/     1  2023-03-14  \n",
       "207905  https://vladivostok.drom.ru/mitsubishi/pajero_...     1  2023-03-14  \n",
       "207906                                                NaN     1  2023-03-13  \n",
       "207907                                                NaN     0  2023-03-13  \n",
       "\n",
       "[99867 rows x 5 columns]"
      ]
     },
     "execution_count": 15,
     "metadata": {},
     "output_type": "execute_result"
    }
   ],
   "source": [
    "DF"
   ]
  },
  {
   "cell_type": "code",
   "execution_count": 13,
   "id": "6b20b97f",
   "metadata": {},
   "outputs": [],
   "source": [
    "metric_1 = DF.copy()\n",
    "metric_2 = DF.copy()      # Создаём отдельные df для подсчёта будущих метрик\n",
    "metric_3 = DF.copy()"
   ]
  },
  {
   "cell_type": "markdown",
   "id": "59e8e3c9",
   "metadata": {},
   "source": [
    "# Общая посещаемость раздела с отзывами"
   ]
  },
  {
   "cell_type": "markdown",
   "id": "a6d1aec3",
   "metadata": {},
   "source": [
    "При анализе данной метрики нам необходимо рассчитать **общее количество пользователей** и пользователей, которые **совершили переход в раздел с отзывами (/reviews/)** в тестовой и контрольной группах, а затем сравнить полученных результат. Важно отметить, что в данной метрике мы считаем **все переходы** в раздел с отзывами, не фильтруя пользователей по уникальным id."
   ]
  },
  {
   "cell_type": "code",
   "execution_count": 16,
   "id": "7e3958c2",
   "metadata": {},
   "outputs": [],
   "source": [
    "def uri(link):                         # Функция для обработки ссылки, на которую перешёл пользователь\n",
    "    if link == '/reviews/':              \n",
    "        return 1\n",
    "    else:\n",
    "        return 0"
   ]
  },
  {
   "cell_type": "markdown",
   "id": "67c07b14",
   "metadata": {},
   "source": [
    "Создаем новый столбец 'converted', где 1 - пользователь посетил раздел с отзывами, 0 - не посетил"
   ]
  },
  {
   "cell_type": "code",
   "execution_count": 17,
   "id": "5e92e8b6",
   "metadata": {},
   "outputs": [],
   "source": [
    "metric_1['converted'] = metric_1['uri'].apply(uri)"
   ]
  },
  {
   "cell_type": "markdown",
   "id": "b48981a2",
   "metadata": {},
   "source": [
    "Далее проводим подсчёт вышеупомянутых показателей, и заодно убеждаемся, что контрольная и тестовая группы равномерны по числу пользователей"
   ]
  },
  {
   "cell_type": "code",
   "execution_count": 18,
   "id": "18ada40b",
   "metadata": {},
   "outputs": [
    {
     "name": "stdout",
     "output_type": "stream",
     "text": [
      "27814 49710\n"
     ]
    }
   ],
   "source": [
    "m1_mask1 = (metric_1['group'] == 0)                    # Количество перешедших пользователей в раздел с отзывами и их общее количество в контрольной группе\n",
    "m1_conversions_control = metric_1['converted'][m1_mask1].sum()\n",
    "m1_total_user_control = metric_1['converted'][m1_mask1].count()\n",
    "print(m1_conversions_control, m1_total_user_control)"
   ]
  },
  {
   "cell_type": "code",
   "execution_count": 19,
   "id": "e0e5cf38",
   "metadata": {},
   "outputs": [
    {
     "name": "stdout",
     "output_type": "stream",
     "text": [
      "28473 50157\n"
     ]
    }
   ],
   "source": [
    "m1_mask2 = (metric_1['group'] == 1)                       # Количество перешедших пользователей и их общее количество для тестовой группы\n",
    "m1_conversions_test = metric_1['converted'][m1_mask2].sum()\n",
    "m1_total_user_test = metric_1['converted'][m1_mask2].count()\n",
    "print(m1_conversions_test, m1_total_user_test)"
   ]
  },
  {
   "cell_type": "markdown",
   "id": "4ffe771e",
   "metadata": {},
   "source": [
    "К полученным результатам применяем z-статистику для подсчёта p-value и убеждаемся, что наши выборки достоверно различаются и **у пользователей из тестовой группы выше посещаемость раздела с отзывами**"
   ]
  },
  {
   "cell_type": "code",
   "execution_count": 43,
   "id": "dd19da0c",
   "metadata": {},
   "outputs": [],
   "source": [
    "count = np.array([m1_conversions_control, m1_conversions_test])                          # Z_статистика\n",
    "nobs = np.array([m1_total_user_control, m1_total_user_test])\n",
    "z_score, p_value_1 = statsmodels.proportions_ztest(count, nobs, value=0, alternative='two-sided')"
   ]
  },
  {
   "cell_type": "code",
   "execution_count": 44,
   "id": "ccb6a083",
   "metadata": {},
   "outputs": [
    {
     "name": "stdout",
     "output_type": "stream",
     "text": [
      "p-value: 0.009394972687726509\n"
     ]
    }
   ],
   "source": [
    "print('p-value:', p_value_1)\n",
    "p1 = p_value_1 # сохраняем полученное значение p-value в переменную p1"
   ]
  },
  {
   "cell_type": "markdown",
   "id": "ed8e5e06",
   "metadata": {},
   "source": [
    "### Визуализируем полученные различия с помощью гистрограммы"
   ]
  },
  {
   "cell_type": "code",
   "execution_count": 22,
   "id": "031d3052",
   "metadata": {},
   "outputs": [
    {
     "data": {
      "image/png": "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\n",
      "text/plain": [
       "<Figure size 800x800 with 1 Axes>"
      ]
     },
     "metadata": {},
     "output_type": "display_data"
    }
   ],
   "source": [
    "# Расчет процента перехода для контрольной и тестовой группы\n",
    "conversion_rate_control = m1_conversions_control / m1_total_user_control * 100\n",
    "conversion_rate_test = m1_conversions_test / m1_total_user_test * 100\n",
    "\n",
    "\n",
    "conversion_data = {'Group': ['Control', 'Test'],\n",
    "                   'percent_of_conversion': [conversion_rate_control, conversion_rate_test]}\n",
    "\n",
    "conversion_df = pd.DataFrame(conversion_data)\n",
    "\n",
    "fig, ax = plt.subplots(figsize=(8,8))\n",
    "\n",
    "bars = plt.bar(conversion_df['Group'], conversion_df['percent_of_conversion'], color='black')\n",
    "\n",
    "plt.xlabel('Group', fontsize=15, color='black')\n",
    "plt.ylabel('Percents', fontsize=15, color='black')\n",
    "\n",
    "ax.set_title('Процент пользователей, совершивших переход на раздел с отзывами', fontsize=16,\n",
    "              fontweight='bold', pad=20)\n",
    "\n",
    "ax.bar_label(bars, padding=-45, color='white', fontsize=12, label_type='edge', fmt='%.2f%%', fontweight='bold')\n",
    "\n",
    "plt.axhline(y=55.95, color='r', linestyle='-')\n",
    "\n",
    "plt.show()"
   ]
  },
  {
   "cell_type": "markdown",
   "id": "480e7439",
   "metadata": {},
   "source": [
    "## Ретеншн 2-го дня"
   ]
  },
  {
   "cell_type": "markdown",
   "id": "c3ee61f3",
   "metadata": {},
   "source": [
    "Ретенш 2-го дня показывает, какой процент пользователей, посещавших сайт, вернулись на него через день.\n",
    "В этом случае нам необходимо отфильтровать наши данные по уникальным значениям 'date' и 'uuid', тем самым оставив лишь по **одному действию для каждого пользователя в конкретный день**"
   ]
  },
  {
   "cell_type": "code",
   "execution_count": 34,
   "id": "3aa0154d",
   "metadata": {
    "scrolled": true
   },
   "outputs": [],
   "source": [
    "metric_2 = metric_2.drop_duplicates(subset=['date', 'uuid']) # Фильтрация уникальных значений uuid для каждого дня"
   ]
  },
  {
   "cell_type": "code",
   "execution_count": 35,
   "id": "55a4a808",
   "metadata": {},
   "outputs": [],
   "source": [
    "def conversions(n, g):                          #функция подсчёта конверсии уникальных пользователей на каждый день\n",
    "    day_start = metric_2['uuid'][metric_2['date'] == f'2023-03-{n}'].tolist()\n",
    "    conversion = []\n",
    "    if n > 11:\n",
    "        for _ in range(n-11):\n",
    "            conversion.append(None)\n",
    "    for i in range(n, 18):\n",
    "        conversion_day_1 = []\n",
    "        day = metric_2['uuid'][metric_2['date'] == f'2023-03-{i}'][metric_2['group'] == g].tolist()\n",
    "        for uuid in day_start:\n",
    "            if uuid in day:\n",
    "                conversion_day_1.append(int(uuid))\n",
    "        conversion.append(len(conversion_day_1))\n",
    "    return conversion"
   ]
  },
  {
   "cell_type": "code",
   "execution_count": 36,
   "id": "bb62f2c6",
   "metadata": {},
   "outputs": [],
   "source": [
    "conversion_control_day_1 = conversions(11, 0)\n",
    "conversion_control_day_2 = conversions(12, 0)\n",
    "conversion_control_day_3 = conversions(13, 0)\n",
    "conversion_control_day_4 = conversions(14, 0)\n",
    "conversion_control_day_5 = conversions(15, 0)\n",
    "conversion_control_day_6 = conversions(16, 0)\n",
    "conversion_control_day_7 = conversions(17, 0)"
   ]
  },
  {
   "cell_type": "code",
   "execution_count": 37,
   "id": "e3c48a8f",
   "metadata": {},
   "outputs": [],
   "source": [
    "conversion_test_day_1 = conversions(11, 1)\n",
    "conversion_test_day_2 = conversions(12, 1)\n",
    "conversion_test_day_3 = conversions(13, 1)\n",
    "conversion_test_day_4 = conversions(14, 1)\n",
    "conversion_test_day_5 = conversions(15, 1)\n",
    "conversion_test_day_6 = conversions(16, 1)\n",
    "conversion_test_day_7 = conversions(17, 1)"
   ]
  },
  {
   "cell_type": "code",
   "execution_count": 38,
   "id": "ae76e103",
   "metadata": {},
   "outputs": [
    {
     "data": {
      "text/html": [
       "<div>\n",
       "<style scoped>\n",
       "    .dataframe tbody tr th:only-of-type {\n",
       "        vertical-align: middle;\n",
       "    }\n",
       "\n",
       "    .dataframe tbody tr th {\n",
       "        vertical-align: top;\n",
       "    }\n",
       "\n",
       "    .dataframe thead th {\n",
       "        text-align: right;\n",
       "    }\n",
       "</style>\n",
       "<table border=\"1\" class=\"dataframe\">\n",
       "  <thead>\n",
       "    <tr style=\"text-align: right;\">\n",
       "      <th></th>\n",
       "      <th>2023-03-11</th>\n",
       "      <th>2023-03-12</th>\n",
       "      <th>2023-03-13</th>\n",
       "      <th>2023-03-14</th>\n",
       "      <th>2023-03-15</th>\n",
       "      <th>2023-03-16</th>\n",
       "      <th>2023-03-17</th>\n",
       "    </tr>\n",
       "  </thead>\n",
       "  <tbody>\n",
       "    <tr>\n",
       "      <th>0</th>\n",
       "      <td>4495.0</td>\n",
       "      <td>429.0</td>\n",
       "      <td>374.0</td>\n",
       "      <td>344.0</td>\n",
       "      <td>220.0</td>\n",
       "      <td>76.0</td>\n",
       "      <td>343.0</td>\n",
       "    </tr>\n",
       "    <tr>\n",
       "      <th>1</th>\n",
       "      <td>NaN</td>\n",
       "      <td>4366.0</td>\n",
       "      <td>404.0</td>\n",
       "      <td>367.0</td>\n",
       "      <td>230.0</td>\n",
       "      <td>82.0</td>\n",
       "      <td>324.0</td>\n",
       "    </tr>\n",
       "    <tr>\n",
       "      <th>2</th>\n",
       "      <td>NaN</td>\n",
       "      <td>NaN</td>\n",
       "      <td>4336.0</td>\n",
       "      <td>390.0</td>\n",
       "      <td>232.0</td>\n",
       "      <td>71.0</td>\n",
       "      <td>332.0</td>\n",
       "    </tr>\n",
       "    <tr>\n",
       "      <th>3</th>\n",
       "      <td>NaN</td>\n",
       "      <td>NaN</td>\n",
       "      <td>NaN</td>\n",
       "      <td>4190.0</td>\n",
       "      <td>285.0</td>\n",
       "      <td>85.0</td>\n",
       "      <td>337.0</td>\n",
       "    </tr>\n",
       "    <tr>\n",
       "      <th>4</th>\n",
       "      <td>NaN</td>\n",
       "      <td>NaN</td>\n",
       "      <td>NaN</td>\n",
       "      <td>NaN</td>\n",
       "      <td>3906.0</td>\n",
       "      <td>97.0</td>\n",
       "      <td>243.0</td>\n",
       "    </tr>\n",
       "    <tr>\n",
       "      <th>5</th>\n",
       "      <td>NaN</td>\n",
       "      <td>NaN</td>\n",
       "      <td>NaN</td>\n",
       "      <td>NaN</td>\n",
       "      <td>NaN</td>\n",
       "      <td>870.0</td>\n",
       "      <td>80.0</td>\n",
       "    </tr>\n",
       "    <tr>\n",
       "      <th>6</th>\n",
       "      <td>NaN</td>\n",
       "      <td>NaN</td>\n",
       "      <td>NaN</td>\n",
       "      <td>NaN</td>\n",
       "      <td>NaN</td>\n",
       "      <td>NaN</td>\n",
       "      <td>5406.0</td>\n",
       "    </tr>\n",
       "  </tbody>\n",
       "</table>\n",
       "</div>"
      ],
      "text/plain": [
       "   2023-03-11  2023-03-12  2023-03-13  2023-03-14  2023-03-15  2023-03-16  \\\n",
       "0      4495.0       429.0       374.0       344.0       220.0        76.0   \n",
       "1         NaN      4366.0       404.0       367.0       230.0        82.0   \n",
       "2         NaN         NaN      4336.0       390.0       232.0        71.0   \n",
       "3         NaN         NaN         NaN      4190.0       285.0        85.0   \n",
       "4         NaN         NaN         NaN         NaN      3906.0        97.0   \n",
       "5         NaN         NaN         NaN         NaN         NaN       870.0   \n",
       "6         NaN         NaN         NaN         NaN         NaN         NaN   \n",
       "\n",
       "   2023-03-17  \n",
       "0       343.0  \n",
       "1       324.0  \n",
       "2       332.0  \n",
       "3       337.0  \n",
       "4       243.0  \n",
       "5        80.0  \n",
       "6      5406.0  "
      ]
     },
     "execution_count": 38,
     "metadata": {},
     "output_type": "execute_result"
    }
   ],
   "source": [
    "df = pd.DataFrame(conversion_test_day_1).T  # создаём df с ретеншеном для тестовой группы\n",
    "df.loc[len(df)] = conversion_test_day_2\n",
    "df.loc[len(df)] = conversion_test_day_3\n",
    "df.loc[len(df)] = conversion_test_day_4\n",
    "df.loc[len(df)] = conversion_test_day_5\n",
    "df.loc[len(df)] = conversion_test_day_6\n",
    "df.loc[len(df)] = conversion_test_day_7\n",
    "df.columns = ['2023-03-11', '2023-03-12', '2023-03-13', '2023-03-14', '2023-03-15', '2023-03-16', '2023-03-17']\n",
    "df"
   ]
  },
  {
   "cell_type": "code",
   "execution_count": 39,
   "id": "0b7f23b7",
   "metadata": {},
   "outputs": [
    {
     "data": {
      "text/html": [
       "<div>\n",
       "<style scoped>\n",
       "    .dataframe tbody tr th:only-of-type {\n",
       "        vertical-align: middle;\n",
       "    }\n",
       "\n",
       "    .dataframe tbody tr th {\n",
       "        vertical-align: top;\n",
       "    }\n",
       "\n",
       "    .dataframe thead th {\n",
       "        text-align: right;\n",
       "    }\n",
       "</style>\n",
       "<table border=\"1\" class=\"dataframe\">\n",
       "  <thead>\n",
       "    <tr style=\"text-align: right;\">\n",
       "      <th></th>\n",
       "      <th>2023-03-11</th>\n",
       "      <th>2023-03-12</th>\n",
       "      <th>2023-03-13</th>\n",
       "      <th>2023-03-14</th>\n",
       "      <th>2023-03-15</th>\n",
       "      <th>2023-03-16</th>\n",
       "      <th>2023-03-17</th>\n",
       "    </tr>\n",
       "  </thead>\n",
       "  <tbody>\n",
       "    <tr>\n",
       "      <th>0</th>\n",
       "      <td>4595.0</td>\n",
       "      <td>417.0</td>\n",
       "      <td>387.0</td>\n",
       "      <td>322.0</td>\n",
       "      <td>235.0</td>\n",
       "      <td>54.0</td>\n",
       "      <td>326.0</td>\n",
       "    </tr>\n",
       "    <tr>\n",
       "      <th>1</th>\n",
       "      <td>NaN</td>\n",
       "      <td>4304.0</td>\n",
       "      <td>411.0</td>\n",
       "      <td>337.0</td>\n",
       "      <td>246.0</td>\n",
       "      <td>59.0</td>\n",
       "      <td>321.0</td>\n",
       "    </tr>\n",
       "    <tr>\n",
       "      <th>2</th>\n",
       "      <td>NaN</td>\n",
       "      <td>NaN</td>\n",
       "      <td>4393.0</td>\n",
       "      <td>382.0</td>\n",
       "      <td>251.0</td>\n",
       "      <td>51.0</td>\n",
       "      <td>347.0</td>\n",
       "    </tr>\n",
       "    <tr>\n",
       "      <th>3</th>\n",
       "      <td>NaN</td>\n",
       "      <td>NaN</td>\n",
       "      <td>NaN</td>\n",
       "      <td>4224.0</td>\n",
       "      <td>290.0</td>\n",
       "      <td>54.0</td>\n",
       "      <td>308.0</td>\n",
       "    </tr>\n",
       "    <tr>\n",
       "      <th>4</th>\n",
       "      <td>NaN</td>\n",
       "      <td>NaN</td>\n",
       "      <td>NaN</td>\n",
       "      <td>NaN</td>\n",
       "      <td>3893.0</td>\n",
       "      <td>75.0</td>\n",
       "      <td>260.0</td>\n",
       "    </tr>\n",
       "    <tr>\n",
       "      <th>5</th>\n",
       "      <td>NaN</td>\n",
       "      <td>NaN</td>\n",
       "      <td>NaN</td>\n",
       "      <td>NaN</td>\n",
       "      <td>NaN</td>\n",
       "      <td>860.0</td>\n",
       "      <td>57.0</td>\n",
       "    </tr>\n",
       "    <tr>\n",
       "      <th>6</th>\n",
       "      <td>NaN</td>\n",
       "      <td>NaN</td>\n",
       "      <td>NaN</td>\n",
       "      <td>NaN</td>\n",
       "      <td>NaN</td>\n",
       "      <td>NaN</td>\n",
       "      <td>5235.0</td>\n",
       "    </tr>\n",
       "  </tbody>\n",
       "</table>\n",
       "</div>"
      ],
      "text/plain": [
       "   2023-03-11  2023-03-12  2023-03-13  2023-03-14  2023-03-15  2023-03-16  \\\n",
       "0      4595.0       417.0       387.0       322.0       235.0        54.0   \n",
       "1         NaN      4304.0       411.0       337.0       246.0        59.0   \n",
       "2         NaN         NaN      4393.0       382.0       251.0        51.0   \n",
       "3         NaN         NaN         NaN      4224.0       290.0        54.0   \n",
       "4         NaN         NaN         NaN         NaN      3893.0        75.0   \n",
       "5         NaN         NaN         NaN         NaN         NaN       860.0   \n",
       "6         NaN         NaN         NaN         NaN         NaN         NaN   \n",
       "\n",
       "   2023-03-17  \n",
       "0       326.0  \n",
       "1       321.0  \n",
       "2       347.0  \n",
       "3       308.0  \n",
       "4       260.0  \n",
       "5        57.0  \n",
       "6      5235.0  "
      ]
     },
     "execution_count": 39,
     "metadata": {},
     "output_type": "execute_result"
    }
   ],
   "source": [
    "dff = pd.DataFrame(conversion_control_day_1).T    # создаём df с ретеншеном для контрольной группы\n",
    "dff.loc[len(dff)] = conversion_control_day_2\n",
    "dff.loc[len(dff)] = conversion_control_day_3\n",
    "dff.loc[len(dff)] = conversion_control_day_4\n",
    "dff.loc[len(dff)] = conversion_control_day_5\n",
    "dff.loc[len(dff)] = conversion_control_day_6\n",
    "dff.loc[len(dff)] = conversion_control_day_7\n",
    "dff.columns = ['2023-03-11', '2023-03-12', '2023-03-13', '2023-03-14', '2023-03-15', '2023-03-16', '2023-03-17']\n",
    "dff"
   ]
  },
  {
   "cell_type": "markdown",
   "id": "7cddcf1c",
   "metadata": {},
   "source": [
    "Создаём списки со значениями ретеншена 2-го дня и помним, что '2023-03-16' при выгрузке логов произошла ошибка, поэтому данных в этот день недосточно для подсчёта ретеншена из-за чего игнорируем эту дату. Также применяем z-тест для подсчёта p-value, в данном случае для всех дней он оказался **выше уровня значимости, поэтому у нас нет оснований отклонить нулевую гипотезу**"
   ]
  },
  {
   "cell_type": "code",
   "execution_count": 40,
   "id": "e46561ce",
   "metadata": {},
   "outputs": [],
   "source": [
    "control_conversion = []     # создаём список для подсчёта ретеншена 2-го дня для каждой из групп\n",
    "test_conversion = []\n",
    "for i in range(5):\n",
    "    if i != 3:\n",
    "        control_conversion.append(dff.iloc[i, i+2] / dff.iloc[i, i])\n",
    "        test_conversion.append(df.iloc[i, i+2] / df.iloc[i, i])\n",
    "        count = np.array([dff.iloc[i, i+2], df.iloc[i, i+2]])   # применяем z-статистику для подсчёта p-value\n",
    "        nobs = np.array([dff.iloc[i, i], df.iloc[i, i]])\n",
    "        z_score, p_value = statsmodels.proportions_ztest(count, nobs, value=0, alternative='two-sided')\n",
    "        if p_value < 0.05:\n",
    "            print(p_value)"
   ]
  },
  {
   "cell_type": "markdown",
   "id": "138e9bdf",
   "metadata": {},
   "source": [
    "Проверяем p-value также с помощью Т-теста, который также говорит, что **статистически значимых различий не наблюдается**"
   ]
  },
  {
   "cell_type": "code",
   "execution_count": 45,
   "id": "ce482895",
   "metadata": {},
   "outputs": [
    {
     "data": {
      "text/plain": [
       "0.9322089007527383"
      ]
     },
     "execution_count": 45,
     "metadata": {},
     "output_type": "execute_result"
    }
   ],
   "source": [
    "_, p_value_2 = stats.ttest_ind(control_conversion,      # Применяем Т-тест\n",
    "                test_conversion,\n",
    "                equal_var=False)\n",
    "p2 = p_value_2\n",
    "p2"
   ]
  },
  {
   "cell_type": "markdown",
   "id": "44639307",
   "metadata": {},
   "source": [
    "### Визуализируем полученные данные с помощью heatmap"
   ]
  },
  {
   "cell_type": "markdown",
   "id": "ceb144d1",
   "metadata": {},
   "source": [
    "График ретеншена для контрольной группы"
   ]
  },
  {
   "cell_type": "code",
   "execution_count": 29,
   "id": "ec77728b",
   "metadata": {},
   "outputs": [
    {
     "data": {
      "image/png": "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\n",
      "text/plain": [
       "<Figure size 1500x800 with 2 Axes>"
      ]
     },
     "metadata": {},
     "output_type": "display_data"
    }
   ],
   "source": [
    "sns.set(rc = {'figure.figsize':(15,8)})\n",
    "ax = sns.heatmap(dff, annot=True, linewidth=.5, fmt='g')\n",
    "ax.set(xlabel=\"\", ylabel=\"\")\n",
    "ax.xaxis.tick_top()"
   ]
  },
  {
   "cell_type": "markdown",
   "id": "926642ec",
   "metadata": {},
   "source": [
    "График ретеншена для тестовой группы"
   ]
  },
  {
   "cell_type": "code",
   "execution_count": 30,
   "id": "d9f2722e",
   "metadata": {},
   "outputs": [
    {
     "data": {
      "image/png": "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\n",
      "text/plain": [
       "<Figure size 1500x800 with 2 Axes>"
      ]
     },
     "metadata": {},
     "output_type": "display_data"
    }
   ],
   "source": [
    "sns.set(rc = {'figure.figsize':(15,8)})\n",
    "ax = sns.heatmap(df, annot=True, linewidth=.5, fmt='g')\n",
    "ax.set(xlabel=\"\", ylabel=\"\")\n",
    "ax.xaxis.tick_top()"
   ]
  },
  {
   "cell_type": "markdown",
   "id": "86ad0193",
   "metadata": {},
   "source": [
    "## Конверсия с главной страницы отзывов"
   ]
  },
  {
   "cell_type": "markdown",
   "id": "da8ed362",
   "metadata": {},
   "source": [
    "В этой метрике мы определяем процент перехода среди пользователей, которые находились на странице с отзывами и перешли с неё на страницу с какой-нибудь маркой автомобиля. Для этого фильтруем наши данные и оставляем только тех юзеров, которые перешли со страницы https://www.drom.ru/reviews/"
   ]
  },
  {
   "cell_type": "code",
   "execution_count": 24,
   "id": "477f9529",
   "metadata": {},
   "outputs": [],
   "source": [
    "HTTP_REFERER = 'https://www.drom.ru/reviews/'  # создаём переменную со значением реферальной ссылки\n",
    "                                                                # и словарь со всеми марками автомобилей\n",
    "BRAND = ['ac', 'aito', 'acura', 'alfa_romeo', 'alpina', 'aro', 'asia', 'aston_martin', 'audi', 'baic', 'baw', 'bmw',\n",
    "         'byd', 'bentley', 'brilliance', 'bugatti', 'buick', 'cadillac', 'changan', 'chery', 'chevrolet', 'chrysler',\n",
    "         'citroen', 'cupra', 'dw_hower', 'dacia', 'dadi', 'daewoo', 'daihatsu', 'daimler', 'datsun', 'delorean',\n",
    "         'derways', 'dodge', 'dongfeng', 'cheryexeed', 'eagle', 'evolute', 'faw', 'ferrari', 'fiat', 'fisker', 'ford',\n",
    "         'foton', 'freightliner', 'gac', 'gmc', 'geely', 'genesis', 'geo', 'great_wall', 'hafei', 'haima', 'haval',\n",
    "         'hawtai', 'hino', 'honda', 'hongqi', 'howo', 'hummer', 'hyundai', 'infiniti', 'iran_khodro', 'isuzu', 'jac',\n",
    "         'jaguar', 'jeep', 'jetour', 'kaiyi', 'kia', 'koenigsegg', 'lamborghini', 'lancia', 'land_rover', 'lexus',\n",
    "         'li', 'lifan', 'lincoln', 'lotus', 'luxgen', 'mini', 'marussia', 'maserati', 'maxus', 'maybach', 'mazda',\n",
    "         'mclaren', 'mercedes-benz', 'mercury', 'mitsubishi', 'mitsuoka', 'nissan', 'omoda', 'oldsmobile', 'opel',\n",
    "         'pagani', 'peugeot', 'plymouth', 'pontiac', 'porsche', 'proton', 'ram', 'ravon', 'renault', 'renault_samsung',\n",
    "         'rivian', 'rolls-royce', 'rover', 'seat', 'saab', 'saturn', 'scion', 'skoda', 'skywell', 'smart', 'ssang_yong',\n",
    "         'subaru', 'suzuki', 'tvr', 'tank', 'tesla', 'tianye', 'toyota', 'volkswagen', 'volvo', 'vortex', 'weltmeister',\n",
    "         'wiesmann', 'xin_kai', 'zx', 'zotye', 'bogdan', 'gaz', 'zaz', 'zil', 'izh', 'lada', 'luaz', 'moskvitch',\n",
    "         'tagaz', 'uaz']"
   ]
  },
  {
   "cell_type": "code",
   "execution_count": 25,
   "id": "458c2a01",
   "metadata": {},
   "outputs": [],
   "source": [
    "metric_3 = metric_3.loc[metric_3['http_referer'] == HTTP_REFERER] # Фильтрация таблицы по http_referer"
   ]
  },
  {
   "cell_type": "markdown",
   "id": "645f4391",
   "metadata": {},
   "source": [
    "Создаём функцию для обработки ссылки, на которую перешли пользователи и добавляем доп. столбец 'converted', где 1 - пользователь перешёл на страничку с какой-нибудь маркой автомобиля и 0 - пользователь перешёл на другую страничку."
   ]
  },
  {
   "cell_type": "code",
   "execution_count": 26,
   "id": "8f1c3ced",
   "metadata": {},
   "outputs": [],
   "source": [
    "def uri(link):                 # Функция для обработки ссылки\n",
    "    link = str(link)\n",
    "    list1 = link.split(\"/\")\n",
    "    list1 = list(filter(None, list1))\n",
    "    if 'reviews' in list1 and list1[-1] in BRAND and list1[-2] not in BRAND:\n",
    "        return 1\n",
    "    else:\n",
    "        return 0"
   ]
  },
  {
   "cell_type": "code",
   "execution_count": 27,
   "id": "be04f761",
   "metadata": {},
   "outputs": [],
   "source": [
    "metric_3['converted'] = metric_3['uri'].apply(uri) # Создаем новый столбец, где 1 - есть конверсия, 0 - нет"
   ]
  },
  {
   "cell_type": "markdown",
   "id": "7dc3d9da",
   "metadata": {},
   "source": [
    "Производим подсчёт общего количества пользователей в группах и количество пользователей, совершивших интерисующий нас переход"
   ]
  },
  {
   "cell_type": "code",
   "execution_count": 28,
   "id": "4895bb7a",
   "metadata": {},
   "outputs": [],
   "source": [
    "m3_mask1 = (metric_3['group'] == 0)              # Количество перешедших и их общее количество для контрольной группы\n",
    "m3_conversion_0 = metric_3['converted'][m3_mask1].to_numpy() # Создаём нампаевский массив с конверсией для контрольной группы\n",
    "m3_conversions_control = int(metric_3['converted'][m3_mask1].sum())\n",
    "m3_total_user_control = int(metric_3['converted'][m3_mask1].count())"
   ]
  },
  {
   "cell_type": "code",
   "execution_count": 29,
   "id": "125eadc1",
   "metadata": {},
   "outputs": [],
   "source": [
    "m3_mask2 = (metric_3['group'] == 1)                  # Количество перешедших и их общее количество для тестовой группы\n",
    "m3_conversion_1 = metric_3['converted'][m3_mask2].to_numpy() # Создаём нампаевский массив с конверсией для тестовой группы\n",
    "m3_conversions_test = int(metric_3['converted'][m3_mask2].sum())\n",
    "m3_total_user_test = int(metric_3['converted'][m3_mask2].count())"
   ]
  },
  {
   "cell_type": "markdown",
   "id": "0d5cc696",
   "metadata": {},
   "source": [
    "Используем z-статистику для подсчёта p-value и получаем статистически значимые различия, однако обнаруживаем, что процент перехода для контрольной группы в данном случае выше, чем для тестовой. То есть изменения продукта негативно отразились на этом показателе и уменьшили конверсию с главной страницы отзыовов."
   ]
  },
  {
   "cell_type": "code",
   "execution_count": 49,
   "id": "4e441838",
   "metadata": {},
   "outputs": [
    {
     "name": "stdout",
     "output_type": "stream",
     "text": [
      "0.011160301156558543\n"
     ]
    }
   ],
   "source": [
    "count = np.array([m3_conversions_control, m3_conversions_test])  # применяем z-статистику для подсчёта p-value\n",
    "nobs = np.array([m3_total_user_control, m3_total_user_test])\n",
    "z_score, p_value_3 = statsmodels.proportions_ztest(count, nobs, value=0, alternative='two-sided')\n",
    "print(p_value_3)\n",
    "p3 = p_value_3"
   ]
  },
  {
   "cell_type": "markdown",
   "id": "6ba0dd61",
   "metadata": {},
   "source": [
    "Для более наглядной визуализации используем Пуассоновский бутстреп анализ"
   ]
  },
  {
   "cell_type": "code",
   "execution_count": 51,
   "id": "51a7cd7c",
   "metadata": {},
   "outputs": [],
   "source": [
    "def bootstrap(m3_conversion_0, m3_conversion_1, n_bootstrap=3000): #Создаём функцию bootstrap\n",
    "\n",
    "    poisson_bootstraps1 = stats.poisson(1).rvs(\n",
    "        (2000, len(m3_conversion_0))).astype(np.int64)\n",
    "\n",
    "    poisson_bootstraps2 = stats.poisson(1).rvs(\n",
    "            (2000, len(m3_conversion_1))).astype(np.int64)\n",
    "    \n",
    "    conversion_control = (poisson_bootstraps1*m3_conversion_0).sum(axis=1) / len(m3_conversion_0)\n",
    "    \n",
    "    conversion_test = (poisson_bootstraps2*m3_conversion_1).sum(axis=1) / len(m3_conversion_1)\n",
    "\n",
    "    return conversion_control, conversion_test"
   ]
  },
  {
   "cell_type": "code",
   "execution_count": 52,
   "id": "383cc015",
   "metadata": {},
   "outputs": [],
   "source": [
    "cnvrs0, cnvrs1 = bootstrap(m3_conversion_0, m3_conversion_1)"
   ]
  },
  {
   "cell_type": "markdown",
   "id": "98cef072",
   "metadata": {},
   "source": [
    "На графике мы видим две совершено разнные выборки, где пик тестовой группы лежит левее по оси Х, что ещё раз доказывает, что **изменения на сайте привели к уменьшению показателя данной метрики**"
   ]
  },
  {
   "cell_type": "code",
   "execution_count": 53,
   "id": "7eb1ee83",
   "metadata": {},
   "outputs": [
    {
     "data": {
      "image/png": "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\n",
      "text/plain": [
       "<Figure size 640x480 with 1 Axes>"
      ]
     },
     "metadata": {},
     "output_type": "display_data"
    },
    {
     "name": "stdout",
     "output_type": "stream",
     "text": [
      "Ttest_indResult(statistic=51.69305472532121, pvalue=0.0)\n",
      "[0.80736375 0.82094652 0.79984623 ... 0.83102682 0.80685119 0.79480608] [0.79141897 0.80080986 0.80494529 ... 0.78211424 0.79951753 0.80296373]\n"
     ]
    }
   ],
   "source": [
    "plt.hist(cnvrs0, bins=30, alpha=0.5, label='Контрольная выборка')\n",
    "plt.hist(cnvrs1, bins=30, alpha=0.5, label='Тестовая выборка')\n",
    "plt.xlabel('Конверсия')\n",
    "plt.ylabel('Частота')\n",
    "plt.legend()\n",
    "plt.show()\n",
    "\n",
    "print(stats.ttest_ind(cnvrs0, cnvrs1, equal_var=False))\n",
    "print(cnvrs0, cnvrs1)"
   ]
  },
  {
   "cell_type": "markdown",
   "id": "74dbb96f",
   "metadata": {},
   "source": [
    "## Поправка Бонферрони"
   ]
  },
  {
   "cell_type": "markdown",
   "id": "15567540",
   "metadata": {},
   "source": [
    "Поскольку изменения затронули сразу несколько показателей, небходимо применить поправку бонферрони к ранее полученным значениям p-value"
   ]
  },
  {
   "cell_type": "code",
   "execution_count": 48,
   "id": "d87bfe72",
   "metadata": {},
   "outputs": [
    {
     "data": {
      "text/plain": [
       "[0.009394972687726509, 0.9322089007527383, 0.011160301156558543]"
      ]
     },
     "execution_count": 48,
     "metadata": {},
     "output_type": "execute_result"
    }
   ],
   "source": [
    "pval = [p1, p2, p3] # создаём список со значениями p-value для трёх метрик\n",
    "pval"
   ]
  },
  {
   "cell_type": "markdown",
   "id": "a40fa881",
   "metadata": {},
   "source": [
    "Мы видим, что применение поправки не влияет на полученные нами ранне результаты, тем самым подтверждая их истинность"
   ]
  },
  {
   "cell_type": "code",
   "execution_count": 50,
   "id": "8b4f4146",
   "metadata": {
    "scrolled": true
   },
   "outputs": [
    {
     "name": "stdout",
     "output_type": "stream",
     "text": [
      "[0.02818492 1.         0.0334809 ]\n",
      "[False  True False]\n"
     ]
    }
   ],
   "source": [
    "rejected, p_corrected, _, _ = multipletests(pval, alpha=0.05, method='bonferroni') #применяем поправку Бонферрони для множественного сравнения\n",
    "print(p_corrected)\n",
    "print(p_corrected > 0.05)"
   ]
  },
  {
   "cell_type": "markdown",
   "id": "7d45eaa8",
   "metadata": {},
   "source": [
    "## Заключение"
   ]
  },
  {
   "cell_type": "markdown",
   "id": "037055b2",
   "metadata": {},
   "source": [
    "**Таким образом, мы наблюдаем расхождение А/B-теста сразу по двум метрикам: общая посещаемость раздела с отзывами и конверсия с главной страницы отзывов. Однако мы не рекомендуем раскатывать нововведение на всю платформу, поскольку оно снижает конверсию с главной страницы отзывов, что, вероятно, будет негативно сказываться на всём продукте.**"
   ]
  }]
